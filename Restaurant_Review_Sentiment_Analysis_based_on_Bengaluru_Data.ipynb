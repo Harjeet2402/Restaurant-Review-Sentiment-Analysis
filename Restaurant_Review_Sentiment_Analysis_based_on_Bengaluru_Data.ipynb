{
  "cells": [
    {
      "cell_type": "markdown",
      "source": [
        "# Review Sentiment Analysis"
      ],
      "metadata": {
        "id": "h_KolKOIDtL7"
      },
      "id": "h_KolKOIDtL7"
    },
    {
      "cell_type": "markdown",
      "source": [
        "In this project, I have tried to create a sentiment analysis algorithm based on restaurant review data scrapped from google reviews for cafes, restaurants and eateries based out of Bengaluru. After data collection, basic information gathering is done and data is processed a bit before going onto cleaning stage. NLP pipeline is created where reviews are cleaned and then model is fit to the final data.<br>\n",
        "<br>\n",
        "<b> Business Understanding:</b>\n",
        "The main aim of the project is to create a sentiment analysis model that is localized to Indian reviews since people here have different ways of expressing their emotions and using some localized words and expressions."
      ],
      "metadata": {
        "id": "9OhXjnWWm93G"
      },
      "id": "9OhXjnWWm93G"
    },
    {
      "cell_type": "code",
      "execution_count": 1,
      "id": "29e1156e",
      "metadata": {
        "id": "29e1156e"
      },
      "outputs": [],
      "source": [
        "import pandas as pd\n",
        "import matplotlib.pyplot as plt\n",
        "import seaborn as sns\n",
        "import string\n",
        "from nltk.corpus import stopwords"
      ]
    },
    {
      "cell_type": "markdown",
      "source": [
        "Installing required libraries"
      ],
      "metadata": {
        "id": "wk3Id9rklMLk"
      },
      "id": "wk3Id9rklMLk"
    },
    {
      "cell_type": "code",
      "source": [
        "!pip install emot # for handling emojis"
      ],
      "metadata": {
        "colab": {
          "base_uri": "https://localhost:8080/"
        },
        "id": "km1hSejLVyLk",
        "outputId": "e5cafa42-4571-46d3-8c42-9c593455ea2e"
      },
      "id": "km1hSejLVyLk",
      "execution_count": 2,
      "outputs": [
        {
          "output_type": "stream",
          "name": "stdout",
          "text": [
            "Looking in indexes: https://pypi.org/simple, https://us-python.pkg.dev/colab-wheels/public/simple/\n",
            "Collecting emot\n",
            "  Downloading emot-3.1-py3-none-any.whl (61 kB)\n",
            "\u001b[2K     \u001b[90m━━━━━━━━━━━━━━━━━━━━━━━━━━━━━━━━━━━━━━━━\u001b[0m \u001b[32m61.5/61.5 kB\u001b[0m \u001b[31m5.8 MB/s\u001b[0m eta \u001b[36m0:00:00\u001b[0m\n",
            "\u001b[?25hInstalling collected packages: emot\n",
            "Successfully installed emot-3.1\n"
          ]
        }
      ]
    },
    {
      "cell_type": "code",
      "source": [
        "!pip install contractions #for handling contractions like won't --> will not"
      ],
      "metadata": {
        "colab": {
          "base_uri": "https://localhost:8080/"
        },
        "id": "Erc0wk1ZVzrG",
        "outputId": "116966e6-6546-4d42-d456-e57dc9f72b7f"
      },
      "id": "Erc0wk1ZVzrG",
      "execution_count": 3,
      "outputs": [
        {
          "output_type": "stream",
          "name": "stdout",
          "text": [
            "Looking in indexes: https://pypi.org/simple, https://us-python.pkg.dev/colab-wheels/public/simple/\n",
            "Collecting contractions\n",
            "  Downloading contractions-0.1.73-py2.py3-none-any.whl (8.7 kB)\n",
            "Collecting textsearch>=0.0.21 (from contractions)\n",
            "  Downloading textsearch-0.0.24-py2.py3-none-any.whl (7.6 kB)\n",
            "Collecting anyascii (from textsearch>=0.0.21->contractions)\n",
            "  Downloading anyascii-0.3.2-py3-none-any.whl (289 kB)\n",
            "\u001b[2K     \u001b[90m━━━━━━━━━━━━━━━━━━━━━━━━━━━━━━━━━━━━━━\u001b[0m \u001b[32m289.9/289.9 kB\u001b[0m \u001b[31m12.2 MB/s\u001b[0m eta \u001b[36m0:00:00\u001b[0m\n",
            "\u001b[?25hCollecting pyahocorasick (from textsearch>=0.0.21->contractions)\n",
            "  Downloading pyahocorasick-2.0.0-cp310-cp310-manylinux_2_5_x86_64.manylinux1_x86_64.manylinux_2_12_x86_64.manylinux2010_x86_64.whl (110 kB)\n",
            "\u001b[2K     \u001b[90m━━━━━━━━━━━━━━━━━━━━━━━━━━━━━━━━━━━━━━\u001b[0m \u001b[32m110.8/110.8 kB\u001b[0m \u001b[31m11.8 MB/s\u001b[0m eta \u001b[36m0:00:00\u001b[0m\n",
            "\u001b[?25hInstalling collected packages: pyahocorasick, anyascii, textsearch, contractions\n",
            "Successfully installed anyascii-0.3.2 contractions-0.1.73 pyahocorasick-2.0.0 textsearch-0.0.24\n"
          ]
        }
      ]
    },
    {
      "cell_type": "code",
      "source": [
        "!pip install lemminflect # lemmatization"
      ],
      "metadata": {
        "colab": {
          "base_uri": "https://localhost:8080/"
        },
        "id": "wC4RhFGOV1mM",
        "outputId": "83efa37c-102c-417d-fec4-03c3a9296585"
      },
      "id": "wC4RhFGOV1mM",
      "execution_count": 4,
      "outputs": [
        {
          "output_type": "stream",
          "name": "stdout",
          "text": [
            "Looking in indexes: https://pypi.org/simple, https://us-python.pkg.dev/colab-wheels/public/simple/\n",
            "Collecting lemminflect\n",
            "  Downloading lemminflect-0.2.3-py3-none-any.whl (769 kB)\n",
            "\u001b[2K     \u001b[90m━━━━━━━━━━━━━━━━━━━━━━━━━━━━━━━━━━━━━━\u001b[0m \u001b[32m769.7/769.7 kB\u001b[0m \u001b[31m29.9 MB/s\u001b[0m eta \u001b[36m0:00:00\u001b[0m\n",
            "\u001b[?25hRequirement already satisfied: numpy in /usr/local/lib/python3.10/dist-packages (from lemminflect) (1.22.4)\n",
            "Installing collected packages: lemminflect\n",
            "Successfully installed lemminflect-0.2.3\n"
          ]
        }
      ]
    },
    {
      "cell_type": "code",
      "source": [
        "!pip install symspellpy # for spelling corrections"
      ],
      "metadata": {
        "colab": {
          "base_uri": "https://localhost:8080/"
        },
        "id": "z7JVRa9mV3WN",
        "outputId": "8dab0bd5-cb16-432a-b6e6-4711dd15701d"
      },
      "id": "z7JVRa9mV3WN",
      "execution_count": 5,
      "outputs": [
        {
          "output_type": "stream",
          "name": "stdout",
          "text": [
            "Looking in indexes: https://pypi.org/simple, https://us-python.pkg.dev/colab-wheels/public/simple/\n",
            "Collecting symspellpy\n",
            "  Downloading symspellpy-6.7.7-py3-none-any.whl (2.6 MB)\n",
            "\u001b[2K     \u001b[90m━━━━━━━━━━━━━━━━━━━━━━━━━━━━━━━━━━━━━━━━\u001b[0m \u001b[32m2.6/2.6 MB\u001b[0m \u001b[31m44.4 MB/s\u001b[0m eta \u001b[36m0:00:00\u001b[0m\n",
            "\u001b[?25hCollecting editdistpy>=0.1.3 (from symspellpy)\n",
            "  Downloading editdistpy-0.1.3.tar.gz (57 kB)\n",
            "\u001b[2K     \u001b[90m━━━━━━━━━━━━━━━━━━━━━━━━━━━━━━━━━━━━━━━━\u001b[0m \u001b[32m57.2/57.2 kB\u001b[0m \u001b[31m5.2 MB/s\u001b[0m eta \u001b[36m0:00:00\u001b[0m\n",
            "\u001b[?25h  Installing build dependencies ... \u001b[?25l\u001b[?25hdone\n",
            "  Getting requirements to build wheel ... \u001b[?25l\u001b[?25hdone\n",
            "  Preparing metadata (pyproject.toml) ... \u001b[?25l\u001b[?25hdone\n",
            "Building wheels for collected packages: editdistpy\n",
            "  Building wheel for editdistpy (pyproject.toml) ... \u001b[?25l\u001b[?25hdone\n",
            "  Created wheel for editdistpy: filename=editdistpy-0.1.3-cp310-cp310-linux_x86_64.whl size=141745 sha256=1b526f3862055057c473b6468cec1a7aed46af2c1ea6129c5864a61b8345abdd\n",
            "  Stored in directory: /root/.cache/pip/wheels/88/6a/a6/a1283cc145323a1fb3d475bd158ee60b248ab1985230d266fc\n",
            "Successfully built editdistpy\n",
            "Installing collected packages: editdistpy, symspellpy\n",
            "Successfully installed editdistpy-0.1.3 symspellpy-6.7.7\n"
          ]
        }
      ]
    },
    {
      "cell_type": "code",
      "execution_count": 6,
      "id": "4d41cd81",
      "metadata": {
        "id": "4d41cd81"
      },
      "outputs": [],
      "source": [
        "import re\n",
        "import pickle\n",
        "from emot.emo_unicode import UNICODE_EMOJI, EMOTICONS_EMO # for emojis and emoticons both"
      ]
    },
    {
      "cell_type": "markdown",
      "source": [
        "## Importing the data"
      ],
      "metadata": {
        "id": "cwiitcBElnzh"
      },
      "id": "cwiitcBElnzh"
    },
    {
      "cell_type": "code",
      "execution_count": 7,
      "id": "8e7d9c6d",
      "metadata": {
        "id": "8e7d9c6d"
      },
      "outputs": [],
      "source": [
        "data=pd.read_excel(\"Final Data.xlsx\")"
      ]
    },
    {
      "cell_type": "code",
      "execution_count": 8,
      "id": "fda90979",
      "metadata": {
        "id": "fda90979"
      },
      "outputs": [],
      "source": [
        "df1 = pd.DataFrame(data)"
      ]
    },
    {
      "cell_type": "code",
      "execution_count": 9,
      "id": "092e8803",
      "metadata": {
        "id": "092e8803"
      },
      "outputs": [],
      "source": [
        "df1.drop(columns=['Name','Date','Rating'],axis=1,inplace=True)"
      ]
    },
    {
      "cell_type": "code",
      "execution_count": 10,
      "id": "831652bf",
      "metadata": {
        "colab": {
          "base_uri": "https://localhost:8080/",
          "height": 423
        },
        "id": "831652bf",
        "outputId": "7fae0271-eaba-4489-ce0f-5a9ad45843ae"
      },
      "outputs": [
        {
          "output_type": "execute_result",
          "data": {
            "text/plain": [
              "       Stars                                            Content\n",
              "0          5  Great experience at this Fruitbae.\\nLocation i...\n",
              "1          4  Visited late night to have a snack and an ice ...\n",
              "2          5  Yummiest desserts.😍 best place for all the ice...\n",
              "3          3  Dry nut falooda was really good. Fruit pafe wa...\n",
              "4          1  It took more than one and half hour to get you...\n",
              "...      ...                                                ...\n",
              "25985      3                                                NaN\n",
              "25986      5                                                NaN\n",
              "25987      3                                                NaN\n",
              "25988      5                                                NaN\n",
              "25989      5                                                NaN\n",
              "\n",
              "[25990 rows x 2 columns]"
            ],
            "text/html": [
              "\n",
              "  <div id=\"df-f817e4a2-7945-4e02-be07-c28609c2b2ea\">\n",
              "    <div class=\"colab-df-container\">\n",
              "      <div>\n",
              "<style scoped>\n",
              "    .dataframe tbody tr th:only-of-type {\n",
              "        vertical-align: middle;\n",
              "    }\n",
              "\n",
              "    .dataframe tbody tr th {\n",
              "        vertical-align: top;\n",
              "    }\n",
              "\n",
              "    .dataframe thead th {\n",
              "        text-align: right;\n",
              "    }\n",
              "</style>\n",
              "<table border=\"1\" class=\"dataframe\">\n",
              "  <thead>\n",
              "    <tr style=\"text-align: right;\">\n",
              "      <th></th>\n",
              "      <th>Stars</th>\n",
              "      <th>Content</th>\n",
              "    </tr>\n",
              "  </thead>\n",
              "  <tbody>\n",
              "    <tr>\n",
              "      <th>0</th>\n",
              "      <td>5</td>\n",
              "      <td>Great experience at this Fruitbae.\\nLocation i...</td>\n",
              "    </tr>\n",
              "    <tr>\n",
              "      <th>1</th>\n",
              "      <td>4</td>\n",
              "      <td>Visited late night to have a snack and an ice ...</td>\n",
              "    </tr>\n",
              "    <tr>\n",
              "      <th>2</th>\n",
              "      <td>5</td>\n",
              "      <td>Yummiest desserts.😍 best place for all the ice...</td>\n",
              "    </tr>\n",
              "    <tr>\n",
              "      <th>3</th>\n",
              "      <td>3</td>\n",
              "      <td>Dry nut falooda was really good. Fruit pafe wa...</td>\n",
              "    </tr>\n",
              "    <tr>\n",
              "      <th>4</th>\n",
              "      <td>1</td>\n",
              "      <td>It took more than one and half hour to get you...</td>\n",
              "    </tr>\n",
              "    <tr>\n",
              "      <th>...</th>\n",
              "      <td>...</td>\n",
              "      <td>...</td>\n",
              "    </tr>\n",
              "    <tr>\n",
              "      <th>25985</th>\n",
              "      <td>3</td>\n",
              "      <td>NaN</td>\n",
              "    </tr>\n",
              "    <tr>\n",
              "      <th>25986</th>\n",
              "      <td>5</td>\n",
              "      <td>NaN</td>\n",
              "    </tr>\n",
              "    <tr>\n",
              "      <th>25987</th>\n",
              "      <td>3</td>\n",
              "      <td>NaN</td>\n",
              "    </tr>\n",
              "    <tr>\n",
              "      <th>25988</th>\n",
              "      <td>5</td>\n",
              "      <td>NaN</td>\n",
              "    </tr>\n",
              "    <tr>\n",
              "      <th>25989</th>\n",
              "      <td>5</td>\n",
              "      <td>NaN</td>\n",
              "    </tr>\n",
              "  </tbody>\n",
              "</table>\n",
              "<p>25990 rows × 2 columns</p>\n",
              "</div>\n",
              "      <button class=\"colab-df-convert\" onclick=\"convertToInteractive('df-f817e4a2-7945-4e02-be07-c28609c2b2ea')\"\n",
              "              title=\"Convert this dataframe to an interactive table.\"\n",
              "              style=\"display:none;\">\n",
              "        \n",
              "  <svg xmlns=\"http://www.w3.org/2000/svg\" height=\"24px\"viewBox=\"0 0 24 24\"\n",
              "       width=\"24px\">\n",
              "    <path d=\"M0 0h24v24H0V0z\" fill=\"none\"/>\n",
              "    <path d=\"M18.56 5.44l.94 2.06.94-2.06 2.06-.94-2.06-.94-.94-2.06-.94 2.06-2.06.94zm-11 1L8.5 8.5l.94-2.06 2.06-.94-2.06-.94L8.5 2.5l-.94 2.06-2.06.94zm10 10l.94 2.06.94-2.06 2.06-.94-2.06-.94-.94-2.06-.94 2.06-2.06.94z\"/><path d=\"M17.41 7.96l-1.37-1.37c-.4-.4-.92-.59-1.43-.59-.52 0-1.04.2-1.43.59L10.3 9.45l-7.72 7.72c-.78.78-.78 2.05 0 2.83L4 21.41c.39.39.9.59 1.41.59.51 0 1.02-.2 1.41-.59l7.78-7.78 2.81-2.81c.8-.78.8-2.07 0-2.86zM5.41 20L4 18.59l7.72-7.72 1.47 1.35L5.41 20z\"/>\n",
              "  </svg>\n",
              "      </button>\n",
              "      \n",
              "  <style>\n",
              "    .colab-df-container {\n",
              "      display:flex;\n",
              "      flex-wrap:wrap;\n",
              "      gap: 12px;\n",
              "    }\n",
              "\n",
              "    .colab-df-convert {\n",
              "      background-color: #E8F0FE;\n",
              "      border: none;\n",
              "      border-radius: 50%;\n",
              "      cursor: pointer;\n",
              "      display: none;\n",
              "      fill: #1967D2;\n",
              "      height: 32px;\n",
              "      padding: 0 0 0 0;\n",
              "      width: 32px;\n",
              "    }\n",
              "\n",
              "    .colab-df-convert:hover {\n",
              "      background-color: #E2EBFA;\n",
              "      box-shadow: 0px 1px 2px rgba(60, 64, 67, 0.3), 0px 1px 3px 1px rgba(60, 64, 67, 0.15);\n",
              "      fill: #174EA6;\n",
              "    }\n",
              "\n",
              "    [theme=dark] .colab-df-convert {\n",
              "      background-color: #3B4455;\n",
              "      fill: #D2E3FC;\n",
              "    }\n",
              "\n",
              "    [theme=dark] .colab-df-convert:hover {\n",
              "      background-color: #434B5C;\n",
              "      box-shadow: 0px 1px 3px 1px rgba(0, 0, 0, 0.15);\n",
              "      filter: drop-shadow(0px 1px 2px rgba(0, 0, 0, 0.3));\n",
              "      fill: #FFFFFF;\n",
              "    }\n",
              "  </style>\n",
              "\n",
              "      <script>\n",
              "        const buttonEl =\n",
              "          document.querySelector('#df-f817e4a2-7945-4e02-be07-c28609c2b2ea button.colab-df-convert');\n",
              "        buttonEl.style.display =\n",
              "          google.colab.kernel.accessAllowed ? 'block' : 'none';\n",
              "\n",
              "        async function convertToInteractive(key) {\n",
              "          const element = document.querySelector('#df-f817e4a2-7945-4e02-be07-c28609c2b2ea');\n",
              "          const dataTable =\n",
              "            await google.colab.kernel.invokeFunction('convertToInteractive',\n",
              "                                                     [key], {});\n",
              "          if (!dataTable) return;\n",
              "\n",
              "          const docLinkHtml = 'Like what you see? Visit the ' +\n",
              "            '<a target=\"_blank\" href=https://colab.research.google.com/notebooks/data_table.ipynb>data table notebook</a>'\n",
              "            + ' to learn more about interactive tables.';\n",
              "          element.innerHTML = '';\n",
              "          dataTable['output_type'] = 'display_data';\n",
              "          await google.colab.output.renderOutput(dataTable, element);\n",
              "          const docLink = document.createElement('div');\n",
              "          docLink.innerHTML = docLinkHtml;\n",
              "          element.appendChild(docLink);\n",
              "        }\n",
              "      </script>\n",
              "    </div>\n",
              "  </div>\n",
              "  "
            ]
          },
          "metadata": {},
          "execution_count": 10
        }
      ],
      "source": [
        "df1"
      ]
    },
    {
      "cell_type": "markdown",
      "source": [
        "## Data Exploration"
      ],
      "metadata": {
        "id": "NbcPEJy0pVoh"
      },
      "id": "NbcPEJy0pVoh"
    },
    {
      "cell_type": "code",
      "execution_count": 11,
      "id": "efe19be9",
      "metadata": {
        "colab": {
          "base_uri": "https://localhost:8080/"
        },
        "id": "efe19be9",
        "outputId": "cef78a10-1230-460c-8aeb-9155092ac12f"
      },
      "outputs": [
        {
          "output_type": "stream",
          "name": "stdout",
          "text": [
            "<class 'pandas.core.frame.DataFrame'>\n",
            "RangeIndex: 25990 entries, 0 to 25989\n",
            "Data columns (total 2 columns):\n",
            " #   Column   Non-Null Count  Dtype \n",
            "---  ------   --------------  ----- \n",
            " 0   Stars    25990 non-null  int64 \n",
            " 1   Content  21461 non-null  object\n",
            "dtypes: int64(1), object(1)\n",
            "memory usage: 406.2+ KB\n"
          ]
        }
      ],
      "source": [
        "df1.info()"
      ]
    },
    {
      "cell_type": "code",
      "execution_count": 12,
      "id": "9be07a6a",
      "metadata": {
        "colab": {
          "base_uri": "https://localhost:8080/"
        },
        "id": "9be07a6a",
        "outputId": "5090dcde-ece4-4c69-96b0-9527a0c000d6"
      },
      "outputs": [
        {
          "output_type": "execute_result",
          "data": {
            "text/plain": [
              "Stars         0\n",
              "Content    4529\n",
              "dtype: int64"
            ]
          },
          "metadata": {},
          "execution_count": 12
        }
      ],
      "source": [
        "df1.isnull().sum()"
      ]
    },
    {
      "cell_type": "code",
      "execution_count": 13,
      "id": "889b27b7",
      "metadata": {
        "colab": {
          "base_uri": "https://localhost:8080/",
          "height": 524
        },
        "id": "889b27b7",
        "outputId": "b9d8176d-648f-43e6-983f-53b7bb0427ef"
      },
      "outputs": [
        {
          "output_type": "execute_result",
          "data": {
            "text/plain": [
              "<seaborn.axisgrid.FacetGrid at 0x7ff01b9adab0>"
            ]
          },
          "metadata": {},
          "execution_count": 13
        },
        {
          "output_type": "display_data",
          "data": {
            "text/plain": [
              "<Figure size 500x500 with 1 Axes>"
            ],
            "image/png": "[encoded data removed]"
          },
          "metadata": {}
        }
      ],
      "source": [
        "sns.catplot(data=df1,x='Stars',kind='count')"
      ]
    },
    {
      "cell_type": "markdown",
      "source": [
        "We see that the data is imbalanced as category 4,5 has more data "
      ],
      "metadata": {
        "id": "DE5zRU9Flr4-"
      },
      "id": "DE5zRU9Flr4-"
    },
    {
      "cell_type": "code",
      "execution_count": 14,
      "id": "de0fb8c9",
      "metadata": {
        "id": "de0fb8c9"
      },
      "outputs": [],
      "source": [
        "df1.dropna(axis=0,inplace=True) # removing null values"
      ]
    },
    {
      "cell_type": "code",
      "execution_count": 15,
      "id": "787fea3b",
      "metadata": {
        "colab": {
          "base_uri": "https://localhost:8080/"
        },
        "id": "787fea3b",
        "outputId": "d226bc8c-232f-4673-d383-88a82121d417"
      },
      "outputs": [
        {
          "output_type": "execute_result",
          "data": {
            "text/plain": [
              "Stars      0\n",
              "Content    0\n",
              "dtype: int64"
            ]
          },
          "metadata": {},
          "execution_count": 15
        }
      ],
      "source": [
        "df1.isnull().sum()"
      ]
    },
    {
      "cell_type": "code",
      "execution_count": 16,
      "id": "30cf10d7",
      "metadata": {
        "colab": {
          "base_uri": "https://localhost:8080/",
          "height": 523
        },
        "id": "30cf10d7",
        "outputId": "c733e8cb-fcd9-4394-b085-95400ef8909d"
      },
      "outputs": [
        {
          "output_type": "execute_result",
          "data": {
            "text/plain": [
              "<seaborn.axisgrid.FacetGrid at 0x7ff01c9ddcc0>"
            ]
          },
          "metadata": {},
          "execution_count": 16
        },
        {
          "output_type": "display_data",
          "data": {
            "text/plain": [
              "<Figure size 500x500 with 1 Axes>"
            ],
            "image/png": "[encoded data removed]"
          },
          "metadata": {}
        }
      ],
      "source": [
        "sns.catplot(data=df1,x='Stars',kind='count')"
      ]
    },
    {
      "cell_type": "code",
      "execution_count": 17,
      "id": "a02bd6ce",
      "metadata": {
        "colab": {
          "base_uri": "https://localhost:8080/"
        },
        "id": "a02bd6ce",
        "outputId": "91470710-df79-415f-fd66-f0385f08ae8c"
      },
      "outputs": [
        {
          "output_type": "execute_result",
          "data": {
            "text/plain": [
              "5    11052\n",
              "4     5618\n",
              "3     2157\n",
              "1     1700\n",
              "2      934\n",
              "Name: Stars, dtype: int64"
            ]
          },
          "metadata": {},
          "execution_count": 17
        }
      ],
      "source": [
        "df1['Stars'].value_counts() #distribtuion of reviews in different star category"
      ]
    },
    {
      "cell_type": "code",
      "execution_count": 18,
      "id": "d75f3991",
      "metadata": {
        "id": "d75f3991"
      },
      "outputs": [],
      "source": [
        "df1.reset_index(inplace=True)"
      ]
    },
    {
      "cell_type": "code",
      "source": [
        "df1.drop(columns=['index'],inplace=True)"
      ],
      "metadata": {
        "id": "FJYklTrea2CH"
      },
      "id": "FJYklTrea2CH",
      "execution_count": 19,
      "outputs": []
    },
    {
      "cell_type": "code",
      "source": [
        "def strip_newline(my_str):  # for removing unnecessary newline character and adjust all reviews in one line\n",
        "  result = \" \".join(line.strip() for line in my_str.splitlines())\n",
        "  return result"
      ],
      "metadata": {
        "id": "xcRcBVHvYedP"
      },
      "id": "xcRcBVHvYedP",
      "execution_count": 20,
      "outputs": []
    },
    {
      "cell_type": "code",
      "source": [
        "for i in range(len(df1['Content'])):\n",
        "  df1.iloc[i,1] = strip_newline(df1['Content'][i])"
      ],
      "metadata": {
        "id": "pausTVomaiEc"
      },
      "id": "pausTVomaiEc",
      "execution_count": 21,
      "outputs": []
    },
    {
      "cell_type": "code",
      "source": [
        "def map_sentiment(stars_received):  # to assign sentiment score as: 1 -- 4,5 Star :: 0 -- 3 Star :: -1 -- 1,2 Star\n",
        "    if stars_received <= 2:\n",
        "        return -1\n",
        "    elif stars_received == 3:\n",
        "        return 0\n",
        "    else:\n",
        "        return 1\n",
        "# Mapping stars to sentiment into three categories\n",
        "df1['Sentiment'] = [ map_sentiment(x) for x in df1['Stars']]"
      ],
      "metadata": {
        "id": "BlBRb27PbZZa"
      },
      "id": "BlBRb27PbZZa",
      "execution_count": 22,
      "outputs": []
    },
    {
      "cell_type": "code",
      "source": [
        "df1"
      ],
      "metadata": {
        "colab": {
          "base_uri": "https://localhost:8080/",
          "height": 423
        },
        "id": "98qljgkma7DO",
        "outputId": "7bcdfc26-7808-44c0-b73b-2f08edfc0273"
      },
      "id": "98qljgkma7DO",
      "execution_count": 23,
      "outputs": [
        {
          "output_type": "execute_result",
          "data": {
            "text/plain": [
              "       Stars                                            Content  Sentiment\n",
              "0          5  Great experience at this Fruitbae. Location is...          1\n",
              "1          4  Visited late night to have a snack and an ice ...          1\n",
              "2          5  Yummiest desserts.😍 best place for all the ice...          1\n",
              "3          3  Dry nut falooda was really good. Fruit pafe wa...          0\n",
              "4          1  It took more than one and half hour to get you...         -1\n",
              "...      ...                                                ...        ...\n",
              "21456      5                                    Taste is great~          1\n",
              "21457      4                                clean and delicious          1\n",
              "21458      2                                       Channgi here         -1\n",
              "21459      5                            After all Japanese food          1\n",
              "21460      4                           good Japanese restaurant          1\n",
              "\n",
              "[21461 rows x 3 columns]"
            ],
            "text/html": [
              "\n",
              "  <div id=\"df-9e1652f7-898c-46a5-8a1e-89809d3c7ec2\">\n",
              "    <div class=\"colab-df-container\">\n",
              "      <div>\n",
              "<style scoped>\n",
              "    .dataframe tbody tr th:only-of-type {\n",
              "        vertical-align: middle;\n",
              "    }\n",
              "\n",
              "    .dataframe tbody tr th {\n",
              "        vertical-align: top;\n",
              "    }\n",
              "\n",
              "    .dataframe thead th {\n",
              "        text-align: right;\n",
              "    }\n",
              "</style>\n",
              "<table border=\"1\" class=\"dataframe\">\n",
              "  <thead>\n",
              "    <tr style=\"text-align: right;\">\n",
              "      <th></th>\n",
              "      <th>Stars</th>\n",
              "      <th>Content</th>\n",
              "      <th>Sentiment</th>\n",
              "    </tr>\n",
              "  </thead>\n",
              "  <tbody>\n",
              "    <tr>\n",
              "      <th>0</th>\n",
              "      <td>5</td>\n",
              "      <td>Great experience at this Fruitbae. Location is...</td>\n",
              "      <td>1</td>\n",
              "    </tr>\n",
              "    <tr>\n",
              "      <th>1</th>\n",
              "      <td>4</td>\n",
              "      <td>Visited late night to have a snack and an ice ...</td>\n",
              "      <td>1</td>\n",
              "    </tr>\n",
              "    <tr>\n",
              "      <th>2</th>\n",
              "      <td>5</td>\n",
              "      <td>Yummiest desserts.😍 best place for all the ice...</td>\n",
              "      <td>1</td>\n",
              "    </tr>\n",
              "    <tr>\n",
              "      <th>3</th>\n",
              "      <td>3</td>\n",
              "      <td>Dry nut falooda was really good. Fruit pafe wa...</td>\n",
              "      <td>0</td>\n",
              "    </tr>\n",
              "    <tr>\n",
              "      <th>4</th>\n",
              "      <td>1</td>\n",
              "      <td>It took more than one and half hour to get you...</td>\n",
              "      <td>-1</td>\n",
              "    </tr>\n",
              "    <tr>\n",
              "      <th>...</th>\n",
              "      <td>...</td>\n",
              "      <td>...</td>\n",
              "      <td>...</td>\n",
              "    </tr>\n",
              "    <tr>\n",
              "      <th>21456</th>\n",
              "      <td>5</td>\n",
              "      <td>Taste is great~</td>\n",
              "      <td>1</td>\n",
              "    </tr>\n",
              "    <tr>\n",
              "      <th>21457</th>\n",
              "      <td>4</td>\n",
              "      <td>clean and delicious</td>\n",
              "      <td>1</td>\n",
              "    </tr>\n",
              "    <tr>\n",
              "      <th>21458</th>\n",
              "      <td>2</td>\n",
              "      <td>Channgi here</td>\n",
              "      <td>-1</td>\n",
              "    </tr>\n",
              "    <tr>\n",
              "      <th>21459</th>\n",
              "      <td>5</td>\n",
              "      <td>After all Japanese food</td>\n",
              "      <td>1</td>\n",
              "    </tr>\n",
              "    <tr>\n",
              "      <th>21460</th>\n",
              "      <td>4</td>\n",
              "      <td>good Japanese restaurant</td>\n",
              "      <td>1</td>\n",
              "    </tr>\n",
              "  </tbody>\n",
              "</table>\n",
              "<p>21461 rows × 3 columns</p>\n",
              "</div>\n",
              "      <button class=\"colab-df-convert\" onclick=\"convertToInteractive('df-9e1652f7-898c-46a5-8a1e-89809d3c7ec2')\"\n",
              "              title=\"Convert this dataframe to an interactive table.\"\n",
              "              style=\"display:none;\">\n",
              "        \n",
              "  <svg xmlns=\"http://www.w3.org/2000/svg\" height=\"24px\"viewBox=\"0 0 24 24\"\n",
              "       width=\"24px\">\n",
              "    <path d=\"M0 0h24v24H0V0z\" fill=\"none\"/>\n",
              "    <path d=\"M18.56 5.44l.94 2.06.94-2.06 2.06-.94-2.06-.94-.94-2.06-.94 2.06-2.06.94zm-11 1L8.5 8.5l.94-2.06 2.06-.94-2.06-.94L8.5 2.5l-.94 2.06-2.06.94zm10 10l.94 2.06.94-2.06 2.06-.94-2.06-.94-.94-2.06-.94 2.06-2.06.94z\"/><path d=\"M17.41 7.96l-1.37-1.37c-.4-.4-.92-.59-1.43-.59-.52 0-1.04.2-1.43.59L10.3 9.45l-7.72 7.72c-.78.78-.78 2.05 0 2.83L4 21.41c.39.39.9.59 1.41.59.51 0 1.02-.2 1.41-.59l7.78-7.78 2.81-2.81c.8-.78.8-2.07 0-2.86zM5.41 20L4 18.59l7.72-7.72 1.47 1.35L5.41 20z\"/>\n",
              "  </svg>\n",
              "      </button>\n",
              "      \n",
              "  <style>\n",
              "    .colab-df-container {\n",
              "      display:flex;\n",
              "      flex-wrap:wrap;\n",
              "      gap: 12px;\n",
              "    }\n",
              "\n",
              "    .colab-df-convert {\n",
              "      background-color: #E8F0FE;\n",
              "      border: none;\n",
              "      border-radius: 50%;\n",
              "      cursor: pointer;\n",
              "      display: none;\n",
              "      fill: #1967D2;\n",
              "      height: 32px;\n",
              "      padding: 0 0 0 0;\n",
              "      width: 32px;\n",
              "    }\n",
              "\n",
              "    .colab-df-convert:hover {\n",
              "      background-color: #E2EBFA;\n",
              "      box-shadow: 0px 1px 2px rgba(60, 64, 67, 0.3), 0px 1px 3px 1px rgba(60, 64, 67, 0.15);\n",
              "      fill: #174EA6;\n",
              "    }\n",
              "\n",
              "    [theme=dark] .colab-df-convert {\n",
              "      background-color: #3B4455;\n",
              "      fill: #D2E3FC;\n",
              "    }\n",
              "\n",
              "    [theme=dark] .colab-df-convert:hover {\n",
              "      background-color: #434B5C;\n",
              "      box-shadow: 0px 1px 3px 1px rgba(0, 0, 0, 0.15);\n",
              "      filter: drop-shadow(0px 1px 2px rgba(0, 0, 0, 0.3));\n",
              "      fill: #FFFFFF;\n",
              "    }\n",
              "  </style>\n",
              "\n",
              "      <script>\n",
              "        const buttonEl =\n",
              "          document.querySelector('#df-9e1652f7-898c-46a5-8a1e-89809d3c7ec2 button.colab-df-convert');\n",
              "        buttonEl.style.display =\n",
              "          google.colab.kernel.accessAllowed ? 'block' : 'none';\n",
              "\n",
              "        async function convertToInteractive(key) {\n",
              "          const element = document.querySelector('#df-9e1652f7-898c-46a5-8a1e-89809d3c7ec2');\n",
              "          const dataTable =\n",
              "            await google.colab.kernel.invokeFunction('convertToInteractive',\n",
              "                                                     [key], {});\n",
              "          if (!dataTable) return;\n",
              "\n",
              "          const docLinkHtml = 'Like what you see? Visit the ' +\n",
              "            '<a target=\"_blank\" href=https://colab.research.google.com/notebooks/data_table.ipynb>data table notebook</a>'\n",
              "            + ' to learn more about interactive tables.';\n",
              "          element.innerHTML = '';\n",
              "          dataTable['output_type'] = 'display_data';\n",
              "          await google.colab.output.renderOutput(dataTable, element);\n",
              "          const docLink = document.createElement('div');\n",
              "          docLink.innerHTML = docLinkHtml;\n",
              "          element.appendChild(docLink);\n",
              "        }\n",
              "      </script>\n",
              "    </div>\n",
              "  </div>\n",
              "  "
            ]
          },
          "metadata": {},
          "execution_count": 23
        }
      ]
    },
    {
      "cell_type": "code",
      "source": [
        "df1['Sentiment'].value_counts()"
      ],
      "metadata": {
        "colab": {
          "base_uri": "https://localhost:8080/"
        },
        "id": "V67yptlE4fov",
        "outputId": "6206f6fc-ab18-40e5-d244-a8986129a09e"
      },
      "id": "V67yptlE4fov",
      "execution_count": 24,
      "outputs": [
        {
          "output_type": "execute_result",
          "data": {
            "text/plain": [
              " 1    16670\n",
              "-1     2634\n",
              " 0     2157\n",
              "Name: Sentiment, dtype: int64"
            ]
          },
          "metadata": {},
          "execution_count": 24
        }
      ]
    },
    {
      "cell_type": "markdown",
      "source": [
        "Now we try to create a balanced data by keeping equal amount of reviews in each category (approx 2500)"
      ],
      "metadata": {
        "id": "vm92iWY6mXAX"
      },
      "id": "vm92iWY6mXAX"
    },
    {
      "cell_type": "code",
      "source": [
        "positive_rev=[]\n",
        "negative_rev=[]\n",
        "neutral_rev=[]\n",
        "\n",
        "for i in range(len(df1)):\n",
        "  if len(positive_rev)<3000:\n",
        "    if df1['Sentiment'][i] == 1:\n",
        "      positive_rev.append(df1['Content'][i])\n",
        "  else:\n",
        "    break\n",
        "\n",
        "for j in range(len(df1)):\n",
        "  if df1['Sentiment'][j] == -1:\n",
        "    negative_rev.append(df1['Content'][j])\n",
        "  elif df1['Sentiment'][j] == 0:\n",
        "    neutral_rev.append(df1['Content'][j])\n"
      ],
      "metadata": {
        "id": "Tu04rNYhWzpX"
      },
      "id": "Tu04rNYhWzpX",
      "execution_count": 25,
      "outputs": []
    },
    {
      "cell_type": "code",
      "source": [
        "positive_df = pd.DataFrame(positive_rev,columns=['Review'])\n",
        "positive_df['Sentiment'] = 1\n",
        "\n",
        "negative_df = pd.DataFrame(negative_rev,columns=['Review'])\n",
        "negative_df['Sentiment'] = -1\n",
        "\n",
        "neutral_df = pd.DataFrame(neutral_rev,columns=['Review'])\n",
        "neutral_df['Sentiment'] = 0"
      ],
      "metadata": {
        "id": "SHFcEpE6Z-em"
      },
      "id": "SHFcEpE6Z-em",
      "execution_count": 26,
      "outputs": []
    },
    {
      "cell_type": "code",
      "source": [
        "final_df = pd.concat([positive_df,neutral_df,negative_df],axis=0)\n",
        "final_df"
      ],
      "metadata": {
        "colab": {
          "base_uri": "https://localhost:8080/",
          "height": 423
        },
        "id": "5vv9ij15aolf",
        "outputId": "a72c6aeb-b1c4-44f6-eafd-d1ff9876a717"
      },
      "id": "5vv9ij15aolf",
      "execution_count": 27,
      "outputs": [
        {
          "output_type": "execute_result",
          "data": {
            "text/plain": [
              "                                                 Review  Sentiment\n",
              "0     Great experience at this Fruitbae. Location is...          1\n",
              "1     Visited late night to have a snack and an ice ...          1\n",
              "2     Yummiest desserts.😍 best place for all the ice...          1\n",
              "3     Really got addicted to these desserts. So ligh...          1\n",
              "4     Good to try faloodas. Take signature one 2 peo...          1\n",
              "...                                                 ...        ...\n",
              "2629                                       Good sarvice         -1\n",
              "2630  Good place for sushi and sashimi. Also, not ve...         -1\n",
              "2631  I stopped by for lunch, but unfortunately it w...         -1\n",
              "2632  koi galti se bhi Jana mat kacchi machhi khila ...         -1\n",
              "2633                                       Channgi here         -1\n",
              "\n",
              "[7791 rows x 2 columns]"
            ],
            "text/html": [
              "\n",
              "  <div id=\"df-6501822c-6eab-40f3-8f9d-b2c2c51c7bf4\">\n",
              "    <div class=\"colab-df-container\">\n",
              "      <div>\n",
              "<style scoped>\n",
              "    .dataframe tbody tr th:only-of-type {\n",
              "        vertical-align: middle;\n",
              "    }\n",
              "\n",
              "    .dataframe tbody tr th {\n",
              "        vertical-align: top;\n",
              "    }\n",
              "\n",
              "    .dataframe thead th {\n",
              "        text-align: right;\n",
              "    }\n",
              "</style>\n",
              "<table border=\"1\" class=\"dataframe\">\n",
              "  <thead>\n",
              "    <tr style=\"text-align: right;\">\n",
              "      <th></th>\n",
              "      <th>Review</th>\n",
              "      <th>Sentiment</th>\n",
              "    </tr>\n",
              "  </thead>\n",
              "  <tbody>\n",
              "    <tr>\n",
              "      <th>0</th>\n",
              "      <td>Great experience at this Fruitbae. Location is...</td>\n",
              "      <td>1</td>\n",
              "    </tr>\n",
              "    <tr>\n",
              "      <th>1</th>\n",
              "      <td>Visited late night to have a snack and an ice ...</td>\n",
              "      <td>1</td>\n",
              "    </tr>\n",
              "    <tr>\n",
              "      <th>2</th>\n",
              "      <td>Yummiest desserts.😍 best place for all the ice...</td>\n",
              "      <td>1</td>\n",
              "    </tr>\n",
              "    <tr>\n",
              "      <th>3</th>\n",
              "      <td>Really got addicted to these desserts. So ligh...</td>\n",
              "      <td>1</td>\n",
              "    </tr>\n",
              "    <tr>\n",
              "      <th>4</th>\n",
              "      <td>Good to try faloodas. Take signature one 2 peo...</td>\n",
              "      <td>1</td>\n",
              "    </tr>\n",
              "    <tr>\n",
              "      <th>...</th>\n",
              "      <td>...</td>\n",
              "      <td>...</td>\n",
              "    </tr>\n",
              "    <tr>\n",
              "      <th>2629</th>\n",
              "      <td>Good sarvice</td>\n",
              "      <td>-1</td>\n",
              "    </tr>\n",
              "    <tr>\n",
              "      <th>2630</th>\n",
              "      <td>Good place for sushi and sashimi. Also, not ve...</td>\n",
              "      <td>-1</td>\n",
              "    </tr>\n",
              "    <tr>\n",
              "      <th>2631</th>\n",
              "      <td>I stopped by for lunch, but unfortunately it w...</td>\n",
              "      <td>-1</td>\n",
              "    </tr>\n",
              "    <tr>\n",
              "      <th>2632</th>\n",
              "      <td>koi galti se bhi Jana mat kacchi machhi khila ...</td>\n",
              "      <td>-1</td>\n",
              "    </tr>\n",
              "    <tr>\n",
              "      <th>2633</th>\n",
              "      <td>Channgi here</td>\n",
              "      <td>-1</td>\n",
              "    </tr>\n",
              "  </tbody>\n",
              "</table>\n",
              "<p>7791 rows × 2 columns</p>\n",
              "</div>\n",
              "      <button class=\"colab-df-convert\" onclick=\"convertToInteractive('df-6501822c-6eab-40f3-8f9d-b2c2c51c7bf4')\"\n",
              "              title=\"Convert this dataframe to an interactive table.\"\n",
              "              style=\"display:none;\">\n",
              "        \n",
              "  <svg xmlns=\"http://www.w3.org/2000/svg\" height=\"24px\"viewBox=\"0 0 24 24\"\n",
              "       width=\"24px\">\n",
              "    <path d=\"M0 0h24v24H0V0z\" fill=\"none\"/>\n",
              "    <path d=\"M18.56 5.44l.94 2.06.94-2.06 2.06-.94-2.06-.94-.94-2.06-.94 2.06-2.06.94zm-11 1L8.5 8.5l.94-2.06 2.06-.94-2.06-.94L8.5 2.5l-.94 2.06-2.06.94zm10 10l.94 2.06.94-2.06 2.06-.94-2.06-.94-.94-2.06-.94 2.06-2.06.94z\"/><path d=\"M17.41 7.96l-1.37-1.37c-.4-.4-.92-.59-1.43-.59-.52 0-1.04.2-1.43.59L10.3 9.45l-7.72 7.72c-.78.78-.78 2.05 0 2.83L4 21.41c.39.39.9.59 1.41.59.51 0 1.02-.2 1.41-.59l7.78-7.78 2.81-2.81c.8-.78.8-2.07 0-2.86zM5.41 20L4 18.59l7.72-7.72 1.47 1.35L5.41 20z\"/>\n",
              "  </svg>\n",
              "      </button>\n",
              "      \n",
              "  <style>\n",
              "    .colab-df-container {\n",
              "      display:flex;\n",
              "      flex-wrap:wrap;\n",
              "      gap: 12px;\n",
              "    }\n",
              "\n",
              "    .colab-df-convert {\n",
              "      background-color: #E8F0FE;\n",
              "      border: none;\n",
              "      border-radius: 50%;\n",
              "      cursor: pointer;\n",
              "      display: none;\n",
              "      fill: #1967D2;\n",
              "      height: 32px;\n",
              "      padding: 0 0 0 0;\n",
              "      width: 32px;\n",
              "    }\n",
              "\n",
              "    .colab-df-convert:hover {\n",
              "      background-color: #E2EBFA;\n",
              "      box-shadow: 0px 1px 2px rgba(60, 64, 67, 0.3), 0px 1px 3px 1px rgba(60, 64, 67, 0.15);\n",
              "      fill: #174EA6;\n",
              "    }\n",
              "\n",
              "    [theme=dark] .colab-df-convert {\n",
              "      background-color: #3B4455;\n",
              "      fill: #D2E3FC;\n",
              "    }\n",
              "\n",
              "    [theme=dark] .colab-df-convert:hover {\n",
              "      background-color: #434B5C;\n",
              "      box-shadow: 0px 1px 3px 1px rgba(0, 0, 0, 0.15);\n",
              "      filter: drop-shadow(0px 1px 2px rgba(0, 0, 0, 0.3));\n",
              "      fill: #FFFFFF;\n",
              "    }\n",
              "  </style>\n",
              "\n",
              "      <script>\n",
              "        const buttonEl =\n",
              "          document.querySelector('#df-6501822c-6eab-40f3-8f9d-b2c2c51c7bf4 button.colab-df-convert');\n",
              "        buttonEl.style.display =\n",
              "          google.colab.kernel.accessAllowed ? 'block' : 'none';\n",
              "\n",
              "        async function convertToInteractive(key) {\n",
              "          const element = document.querySelector('#df-6501822c-6eab-40f3-8f9d-b2c2c51c7bf4');\n",
              "          const dataTable =\n",
              "            await google.colab.kernel.invokeFunction('convertToInteractive',\n",
              "                                                     [key], {});\n",
              "          if (!dataTable) return;\n",
              "\n",
              "          const docLinkHtml = 'Like what you see? Visit the ' +\n",
              "            '<a target=\"_blank\" href=https://colab.research.google.com/notebooks/data_table.ipynb>data table notebook</a>'\n",
              "            + ' to learn more about interactive tables.';\n",
              "          element.innerHTML = '';\n",
              "          dataTable['output_type'] = 'display_data';\n",
              "          await google.colab.output.renderOutput(dataTable, element);\n",
              "          const docLink = document.createElement('div');\n",
              "          docLink.innerHTML = docLinkHtml;\n",
              "          element.appendChild(docLink);\n",
              "        }\n",
              "      </script>\n",
              "    </div>\n",
              "  </div>\n",
              "  "
            ]
          },
          "metadata": {},
          "execution_count": 27
        }
      ]
    },
    {
      "cell_type": "code",
      "source": [
        "final_df.reset_index(inplace=True)\n",
        "final_df.drop(columns=['index'],inplace=True)\n",
        "final_df"
      ],
      "metadata": {
        "colab": {
          "base_uri": "https://localhost:8080/",
          "height": 423
        },
        "id": "8wYfyBmobY6A",
        "outputId": "a5751e77-28b0-4dc6-8058-f19c520a7b0d"
      },
      "id": "8wYfyBmobY6A",
      "execution_count": 28,
      "outputs": [
        {
          "output_type": "execute_result",
          "data": {
            "text/plain": [
              "                                                 Review  Sentiment\n",
              "0     Great experience at this Fruitbae. Location is...          1\n",
              "1     Visited late night to have a snack and an ice ...          1\n",
              "2     Yummiest desserts.😍 best place for all the ice...          1\n",
              "3     Really got addicted to these desserts. So ligh...          1\n",
              "4     Good to try faloodas. Take signature one 2 peo...          1\n",
              "...                                                 ...        ...\n",
              "7786                                       Good sarvice         -1\n",
              "7787  Good place for sushi and sashimi. Also, not ve...         -1\n",
              "7788  I stopped by for lunch, but unfortunately it w...         -1\n",
              "7789  koi galti se bhi Jana mat kacchi machhi khila ...         -1\n",
              "7790                                       Channgi here         -1\n",
              "\n",
              "[7791 rows x 2 columns]"
            ],
            "text/html": [
              "\n",
              "  <div id=\"df-26ba42df-90e7-4f66-a4de-5be4dd2bf5f1\">\n",
              "    <div class=\"colab-df-container\">\n",
              "      <div>\n",
              "<style scoped>\n",
              "    .dataframe tbody tr th:only-of-type {\n",
              "        vertical-align: middle;\n",
              "    }\n",
              "\n",
              "    .dataframe tbody tr th {\n",
              "        vertical-align: top;\n",
              "    }\n",
              "\n",
              "    .dataframe thead th {\n",
              "        text-align: right;\n",
              "    }\n",
              "</style>\n",
              "<table border=\"1\" class=\"dataframe\">\n",
              "  <thead>\n",
              "    <tr style=\"text-align: right;\">\n",
              "      <th></th>\n",
              "      <th>Review</th>\n",
              "      <th>Sentiment</th>\n",
              "    </tr>\n",
              "  </thead>\n",
              "  <tbody>\n",
              "    <tr>\n",
              "      <th>0</th>\n",
              "      <td>Great experience at this Fruitbae. Location is...</td>\n",
              "      <td>1</td>\n",
              "    </tr>\n",
              "    <tr>\n",
              "      <th>1</th>\n",
              "      <td>Visited late night to have a snack and an ice ...</td>\n",
              "      <td>1</td>\n",
              "    </tr>\n",
              "    <tr>\n",
              "      <th>2</th>\n",
              "      <td>Yummiest desserts.😍 best place for all the ice...</td>\n",
              "      <td>1</td>\n",
              "    </tr>\n",
              "    <tr>\n",
              "      <th>3</th>\n",
              "      <td>Really got addicted to these desserts. So ligh...</td>\n",
              "      <td>1</td>\n",
              "    </tr>\n",
              "    <tr>\n",
              "      <th>4</th>\n",
              "      <td>Good to try faloodas. Take signature one 2 peo...</td>\n",
              "      <td>1</td>\n",
              "    </tr>\n",
              "    <tr>\n",
              "      <th>...</th>\n",
              "      <td>...</td>\n",
              "      <td>...</td>\n",
              "    </tr>\n",
              "    <tr>\n",
              "      <th>7786</th>\n",
              "      <td>Good sarvice</td>\n",
              "      <td>-1</td>\n",
              "    </tr>\n",
              "    <tr>\n",
              "      <th>7787</th>\n",
              "      <td>Good place for sushi and sashimi. Also, not ve...</td>\n",
              "      <td>-1</td>\n",
              "    </tr>\n",
              "    <tr>\n",
              "      <th>7788</th>\n",
              "      <td>I stopped by for lunch, but unfortunately it w...</td>\n",
              "      <td>-1</td>\n",
              "    </tr>\n",
              "    <tr>\n",
              "      <th>7789</th>\n",
              "      <td>koi galti se bhi Jana mat kacchi machhi khila ...</td>\n",
              "      <td>-1</td>\n",
              "    </tr>\n",
              "    <tr>\n",
              "      <th>7790</th>\n",
              "      <td>Channgi here</td>\n",
              "      <td>-1</td>\n",
              "    </tr>\n",
              "  </tbody>\n",
              "</table>\n",
              "<p>7791 rows × 2 columns</p>\n",
              "</div>\n",
              "      <button class=\"colab-df-convert\" onclick=\"convertToInteractive('df-26ba42df-90e7-4f66-a4de-5be4dd2bf5f1')\"\n",
              "              title=\"Convert this dataframe to an interactive table.\"\n",
              "              style=\"display:none;\">\n",
              "        \n",
              "  <svg xmlns=\"http://www.w3.org/2000/svg\" height=\"24px\"viewBox=\"0 0 24 24\"\n",
              "       width=\"24px\">\n",
              "    <path d=\"M0 0h24v24H0V0z\" fill=\"none\"/>\n",
              "    <path d=\"M18.56 5.44l.94 2.06.94-2.06 2.06-.94-2.06-.94-.94-2.06-.94 2.06-2.06.94zm-11 1L8.5 8.5l.94-2.06 2.06-.94-2.06-.94L8.5 2.5l-.94 2.06-2.06.94zm10 10l.94 2.06.94-2.06 2.06-.94-2.06-.94-.94-2.06-.94 2.06-2.06.94z\"/><path d=\"M17.41 7.96l-1.37-1.37c-.4-.4-.92-.59-1.43-.59-.52 0-1.04.2-1.43.59L10.3 9.45l-7.72 7.72c-.78.78-.78 2.05 0 2.83L4 21.41c.39.39.9.59 1.41.59.51 0 1.02-.2 1.41-.59l7.78-7.78 2.81-2.81c.8-.78.8-2.07 0-2.86zM5.41 20L4 18.59l7.72-7.72 1.47 1.35L5.41 20z\"/>\n",
              "  </svg>\n",
              "      </button>\n",
              "      \n",
              "  <style>\n",
              "    .colab-df-container {\n",
              "      display:flex;\n",
              "      flex-wrap:wrap;\n",
              "      gap: 12px;\n",
              "    }\n",
              "\n",
              "    .colab-df-convert {\n",
              "      background-color: #E8F0FE;\n",
              "      border: none;\n",
              "      border-radius: 50%;\n",
              "      cursor: pointer;\n",
              "      display: none;\n",
              "      fill: #1967D2;\n",
              "      height: 32px;\n",
              "      padding: 0 0 0 0;\n",
              "      width: 32px;\n",
              "    }\n",
              "\n",
              "    .colab-df-convert:hover {\n",
              "      background-color: #E2EBFA;\n",
              "      box-shadow: 0px 1px 2px rgba(60, 64, 67, 0.3), 0px 1px 3px 1px rgba(60, 64, 67, 0.15);\n",
              "      fill: #174EA6;\n",
              "    }\n",
              "\n",
              "    [theme=dark] .colab-df-convert {\n",
              "      background-color: #3B4455;\n",
              "      fill: #D2E3FC;\n",
              "    }\n",
              "\n",
              "    [theme=dark] .colab-df-convert:hover {\n",
              "      background-color: #434B5C;\n",
              "      box-shadow: 0px 1px 3px 1px rgba(0, 0, 0, 0.15);\n",
              "      filter: drop-shadow(0px 1px 2px rgba(0, 0, 0, 0.3));\n",
              "      fill: #FFFFFF;\n",
              "    }\n",
              "  </style>\n",
              "\n",
              "      <script>\n",
              "        const buttonEl =\n",
              "          document.querySelector('#df-26ba42df-90e7-4f66-a4de-5be4dd2bf5f1 button.colab-df-convert');\n",
              "        buttonEl.style.display =\n",
              "          google.colab.kernel.accessAllowed ? 'block' : 'none';\n",
              "\n",
              "        async function convertToInteractive(key) {\n",
              "          const element = document.querySelector('#df-26ba42df-90e7-4f66-a4de-5be4dd2bf5f1');\n",
              "          const dataTable =\n",
              "            await google.colab.kernel.invokeFunction('convertToInteractive',\n",
              "                                                     [key], {});\n",
              "          if (!dataTable) return;\n",
              "\n",
              "          const docLinkHtml = 'Like what you see? Visit the ' +\n",
              "            '<a target=\"_blank\" href=https://colab.research.google.com/notebooks/data_table.ipynb>data table notebook</a>'\n",
              "            + ' to learn more about interactive tables.';\n",
              "          element.innerHTML = '';\n",
              "          dataTable['output_type'] = 'display_data';\n",
              "          await google.colab.output.renderOutput(dataTable, element);\n",
              "          const docLink = document.createElement('div');\n",
              "          docLink.innerHTML = docLinkHtml;\n",
              "          element.appendChild(docLink);\n",
              "        }\n",
              "      </script>\n",
              "    </div>\n",
              "  </div>\n",
              "  "
            ]
          },
          "metadata": {},
          "execution_count": 28
        }
      ]
    },
    {
      "cell_type": "markdown",
      "source": [
        "Now we have a balanced review dataframe and create a NLP pipeline for data cleaning."
      ],
      "metadata": {
        "id": "z7MrgMMAmza7"
      },
      "id": "z7MrgMMAmza7"
    },
    {
      "cell_type": "markdown",
      "id": "53182f3d",
      "metadata": {
        "id": "53182f3d"
      },
      "source": [
        "### NLP Pipeline"
      ]
    },
    {
      "cell_type": "code",
      "source": [
        "from tqdm import tqdm"
      ],
      "metadata": {
        "id": "EMRJ67zUHm7-"
      },
      "id": "EMRJ67zUHm7-",
      "execution_count": 29,
      "outputs": []
    },
    {
      "cell_type": "code",
      "execution_count": 30,
      "id": "507b30b9",
      "metadata": {
        "id": "507b30b9"
      },
      "outputs": [],
      "source": [
        "import contractions  #expanding words like shalln't, shouldn't etc.\n",
        "\n",
        "def contraction_(line):\n",
        "    return contractions.fix(line)\n",
        "    "
      ]
    },
    {
      "cell_type": "code",
      "execution_count": 31,
      "id": "f63b2669",
      "metadata": {
        "id": "f63b2669"
      },
      "outputs": [],
      "source": [
        "from bs4 import BeautifulSoup\n",
        "cleanr = re.compile('<.*?>')\n",
        "def remove_tags(line1): #function to clean words of any html tags\n",
        "    \n",
        "    cleantext = re.sub(cleanr,' ',line1)\n",
        "    return cleantext"
      ]
    },
    {
      "cell_type": "code",
      "execution_count": 32,
      "id": "f67d454d",
      "metadata": {
        "id": "f67d454d"
      },
      "outputs": [],
      "source": [
        "import re\n",
        "\n",
        "def remove_urls(vTEXT):  # removing valid urls\n",
        "    vTEXT = re.sub(r'(https|http)?:\\/\\/(\\w|\\.|\\/|\\?|\\=|\\&|\\%|\\-)*\\b', '', vTEXT, flags=re.MULTILINE)\n",
        "    return(vTEXT.strip()) "
      ]
    },
    {
      "cell_type": "code",
      "execution_count": 33,
      "id": "6cd58f60",
      "metadata": {
        "id": "6cd58f60"
      },
      "outputs": [],
      "source": [
        "def cleanpunc(sentence): # clearing punctuation marks\n",
        "    cleaned = re.sub(r'[?|!|\\'|\"|#]',r'',sentence)\n",
        "    cleaned = re.sub(r'[.|,|)|(|\\|/)]',r'',cleaned)\n",
        "    return cleaned"
      ]
    },
    {
      "cell_type": "code",
      "execution_count": 34,
      "id": "a7ef7f7f",
      "metadata": {
        "colab": {
          "base_uri": "https://localhost:8080/"
        },
        "id": "a7ef7f7f",
        "outputId": "47e9f781-8f3b-47ce-e450-2ff116cb2a1c"
      },
      "outputs": [
        {
          "output_type": "stream",
          "name": "stderr",
          "text": [
            "[nltk_data] Downloading package stopwords to /root/nltk_data...\n",
            "[nltk_data]   Unzipping corpora/stopwords.zip.\n"
          ]
        }
      ],
      "source": [
        "import nltk\n",
        "nltk.download('stopwords')\n",
        "stop = stopwords.words('english') # set of stopwords\n",
        "stop.remove('nor')\n",
        "stop.remove('not')"
      ]
    },
    {
      "cell_type": "code",
      "execution_count": 35,
      "id": "15e445c7",
      "metadata": {
        "id": "15e445c7"
      },
      "outputs": [],
      "source": [
        "stopwords1= set(['the', 'i', 'me', 'my', 'myself', 'we', 'our', 'ours', 'ourselves', 'you', \"you're\", \"you've\",\\\n",
        "            \"you'll\", \"you'd\", 'your', 'yours', 'yourself', 'yourselves', 'he', 'him', 'his', 'himself', \\\n",
        "            'she', \"she's\", 'her', 'hers', 'herself', 'it', \"it's\", 'its', 'itself', 'they', 'them', 'their',\\\n",
        "            'theirs', 'themselves', 'what', 'which', 'who', 'whom', 'this', 'that', \"that'll\", 'these', 'those', \\\n",
        "            'am', 'is', 'are', 'was', 'were', 'be', 'been', 'being', 'have', 'has', 'had', 'having', 'do', 'does', \\\n",
        "            'did', 'doing', 'a', 'an', 'the', 'and', 'but', 'if', 'or', 'because', 'as', 'until', 'while', 'of', \\\n",
        "            'at', 'by', 'for', 'with', 'about', 'against', 'between', 'into', 'through', 'during', 'before', 'after',\\\n",
        "            'above', 'below', 'to', 'from', 'up', 'down', 'in', 'out', 'on', 'off', 'over', 'under', 'again', 'further',\\\n",
        "            'then', 'once', 'here', 'there', 'when', 'where', 'why', 'how', 'all', 'any', 'both', 'each', 'few', 'more',\\\n",
        "            'most', 'other', 'some', 'such', 'only', 'own', 'same', 'so', 'than', 'too', 'very', \\\n",
        "            's', 't', 'can', 'will', 'just', 'don', \"don't\", 'should', \"should've\", 'now', 'd', 'll', 'm', 'o', 're', \\\n",
        "            've', 'y', 'ain', 'aren', \"aren't\", 'couldn', \"couldn't\", 'didn', \"didn't\", 'doesn', \"doesn't\", 'hadn',\\\n",
        "            \"hadn't\", 'hasn', \"hasn't\", 'haven', \"haven't\", 'isn', \"isn't\", 'ma', 'mightn', \"mightn't\", 'mustn',\\\n",
        "            \"mustn't\", 'needn', \"needn't\", 'shan', \"shan't\", 'shouldn', \"shouldn't\", 'wasn', \"wasn't\", 'weren', \"weren't\", \\\n",
        "            'won', \"won't\", 'wouldn', \"wouldn't\"])"
      ]
    },
    {
      "cell_type": "code",
      "execution_count": 36,
      "id": "f2f77426",
      "metadata": {
        "id": "f2f77426"
      },
      "outputs": [],
      "source": [
        "final_stopwords = stopwords1.union(stop) #final set of stopwords"
      ]
    },
    {
      "cell_type": "code",
      "execution_count": 37,
      "id": "477722cb",
      "metadata": {
        "id": "477722cb"
      },
      "outputs": [],
      "source": [
        "def convert_emojis(text): # handling emojis\n",
        "    for emot in UNICODE_EMOJI:\n",
        "        text = text.replace(emot, \"_\".join(UNICODE_EMOJI[emot].replace(\",\",\"\").replace(\":\",\"\").split()))\n",
        "    return text\n",
        "with open(\"Emoticon_Dict.p\", 'rb') as fp:\n",
        "      Emoticon_Dict = pickle.load(fp)\n",
        "\n",
        "\n",
        "def convert_emoticons(text): # handling emoticons\n",
        "    \n",
        "    emoticon_pattern = re.compile(u'(' + u'|'.join(k for k in Emoticon_Dict) + u')')\n",
        "    text_temp = emoticon_pattern.sub(r'', text)\n",
        "    return text_temp"
      ]
    },
    {
      "cell_type": "code",
      "source": [
        "from symspellpy import SymSpell \n",
        "symsp = SymSpell()\n",
        "symsp.load_dictionary('freq_dict.txt',term_index=0,count_index=1,separator=' ',encoding='utf8')\n",
        "def spell_check(sentence): # correcting spelling mistakes\n",
        "  terms = symsp.lookup_compound(sentence,max_edit_distance=2) \n",
        "  return terms[0].term"
      ],
      "metadata": {
        "id": "BgcAZkqSA2OL"
      },
      "id": "BgcAZkqSA2OL",
      "execution_count": 38,
      "outputs": []
    },
    {
      "cell_type": "code",
      "execution_count": 39,
      "id": "e3858c0c",
      "metadata": {
        "id": "e3858c0c"
      },
      "outputs": [],
      "source": [
        "import lemminflect\n",
        "import spacy\n",
        "nlp = spacy.load('en_core_web_sm',disable=['praser', 'ner'])\n",
        "nlp.add_pipe('sentencizer')\n",
        "\n",
        "def lemma(word):  # lemmatizing the words\n",
        "    \n",
        "    doc = nlp(word)\n",
        "    for item in doc:\n",
        "         return item._.lemma()\n"
      ]
    },
    {
      "cell_type": "code",
      "execution_count": 43,
      "id": "4f48a6ad",
      "metadata": {
        "id": "4f48a6ad"
      },
      "outputs": [],
      "source": [
        "final_string = []\n",
        "all_positive_words=[]\n",
        "all_negative_words=[]\n",
        "  \n",
        "def cleaner_nlp(): # final pipeline of nlp\n",
        "  i=0\n",
        "  str1=''\n",
        "  s=''\n",
        "  for sent in tqdm(df1['Content'].values):\n",
        "    filtered_sentence=[]\n",
        "    \n",
        "    sent = remove_urls(sent)\n",
        "    sent = remove_tags(sent)\n",
        "    sent = convert_emojis(sent)\n",
        "    sent = convert_emoticons(sent)\n",
        "    sent = spell_check(sent)\n",
        "    sent = contraction_(sent)\n",
        "    for w in sent.split():\n",
        "        for cleaned_words in cleanpunc(w).split():\n",
        "            if((cleaned_words.isalpha()) and (len(cleaned_words)>2)):\n",
        "                if(cleaned_words.lower() not in final_stopwords):\n",
        "                    \n",
        "                    s=(lemma(cleaned_words.lower()))\n",
        "                    filtered_sentence.append(s)\n",
        "                    if(df1['Stars'].values)[i] == 'Positive':\n",
        "                        all_positive_words.append(s)\n",
        "                    if(df1['Stars'].values)[i] == 'Negative':\n",
        "                        all_negative_words.append(s)\n",
        "                else:\n",
        "                    continue\n",
        "            else:\n",
        "                continue\n",
        "    \n",
        "    str1 = \" \".join(filtered_sentence) #final string of cleaned words\n",
        "\n",
        "    final_string.append(str1)\n",
        "    i+=1\n",
        "                "
      ]
    },
    {
      "cell_type": "code",
      "execution_count": 44,
      "id": "b36d0357",
      "metadata": {
        "colab": {
          "base_uri": "https://localhost:8080/"
        },
        "id": "b36d0357",
        "outputId": "5d38fe55-3e39-408a-c72a-6b0a6a0d66cd"
      },
      "outputs": [
        {
          "output_type": "stream",
          "name": "stderr",
          "text": [
            "100%|██████████| 21461/21461 [24:52<00:00, 14.38it/s]\n"
          ]
        }
      ],
      "source": [
        "cleaner_nlp()"
      ]
    },
    {
      "cell_type": "code",
      "source": [
        "final_df['Processed'] = final_string # dataframe of balanced review"
      ],
      "metadata": {
        "id": "iJpKXMPx1SkG"
      },
      "id": "iJpKXMPx1SkG",
      "execution_count": 42,
      "outputs": []
    },
    {
      "cell_type": "code",
      "source": [
        "df1['Processed'] = final_string # full review processed dataframe"
      ],
      "metadata": {
        "id": "JTPXSDVX2O_f"
      },
      "id": "JTPXSDVX2O_f",
      "execution_count": 45,
      "outputs": []
    },
    {
      "cell_type": "markdown",
      "source": [
        "## Feature Engineering"
      ],
      "metadata": {
        "id": "oGYYsVx-yd1_"
      },
      "id": "oGYYsVx-yd1_"
    },
    {
      "cell_type": "markdown",
      "source": [
        "###### Training  TF-IDF and TF-IDF Weighted Word2Vec "
      ],
      "metadata": {
        "id": "FY37Cd5n5e0e"
      },
      "id": "FY37Cd5n5e0e"
    },
    {
      "cell_type": "markdown",
      "source": [
        "Tokenizing the Sentence"
      ],
      "metadata": {
        "id": "I-fEjD2v2cFh"
      },
      "id": "I-fEjD2v2cFh"
    },
    {
      "cell_type": "code",
      "source": [
        "from nltk.tokenize import RegexpTokenizer\n",
        "review_data_list = list()\n",
        "\n",
        "indv_lines = list(df1['Processed'].values)\n",
        "for line in indv_lines: # for tokenizing the sentences into words\n",
        "  rem_tok_punc = RegexpTokenizer(r'\\w+')\n",
        "  tokens = rem_tok_punc.tokenize(line)\n",
        "  words = [w for w in tokens]\n",
        "  review_data_list.append(words)\n",
        "\n",
        "len(review_data_list)"
      ],
      "metadata": {
        "colab": {
          "base_uri": "https://localhost:8080/"
        },
        "id": "VG-KGEL10HvY",
        "outputId": "503f3fe8-c173-44c8-de12-94ee3ccfc59d"
      },
      "id": "VG-KGEL10HvY",
      "execution_count": 87,
      "outputs": [
        {
          "output_type": "execute_result",
          "data": {
            "text/plain": [
              "21461"
            ]
          },
          "metadata": {},
          "execution_count": 87
        }
      ]
    },
    {
      "cell_type": "markdown",
      "source": [
        "Word2Vec Model"
      ],
      "metadata": {
        "id": "tQ0hAmpp2Z1Y"
      },
      "id": "tQ0hAmpp2Z1Y"
    },
    {
      "cell_type": "code",
      "source": [
        "from gensim.models import Word2Vec\n",
        "import time\n",
        "# Skip-gram model (sg = 1)\n",
        "size = 300\n",
        "window = 3\n",
        "min_count = 1\n",
        "workers = 10\n",
        "ep = 10\n",
        "sg = 1\n",
        "\n",
        "word2vec_model_file = 'word2vec_' + str(size) + '.model'\n",
        "start_time = time.time()\n",
        "\n",
        "# Train the Word2Vec Model\n",
        "\n",
        "w2v_model = Word2Vec(review_data_list, vector_size=size, window=window, min_count=min_count, workers=workers, epochs=ep, sg=1)\n",
        "print(\"Time taken to train word2vec model: \" + str(time.time() - start_time))\n",
        "\n",
        "w2v_model.save(word2vec_model_file)"
      ],
      "metadata": {
        "colab": {
          "base_uri": "https://localhost:8080/"
        },
        "id": "6Vk3otUVFpN9",
        "outputId": "7c7d31c8-86e2-4fdc-e8b7-9d7ae4af8ec3"
      },
      "id": "6Vk3otUVFpN9",
      "execution_count": 88,
      "outputs": [
        {
          "output_type": "stream",
          "name": "stdout",
          "text": [
            "Time taken to train word2vec model: 16.11370849609375\n"
          ]
        }
      ]
    },
    {
      "cell_type": "code",
      "source": [
        "print(len(list(w2v_model.wv.key_to_index)))"
      ],
      "metadata": {
        "colab": {
          "base_uri": "https://localhost:8080/"
        },
        "id": "zX7rzffHLp6P",
        "outputId": "eafec2ef-e34b-48d2-d46e-c9c7d6280142"
      },
      "id": "zX7rzffHLp6P",
      "execution_count": 89,
      "outputs": [
        {
          "output_type": "stream",
          "name": "stdout",
          "text": [
            "8319\n"
          ]
        }
      ]
    },
    {
      "cell_type": "code",
      "source": [
        "w2v_words = list(w2v_model.wv.index_to_key)\n",
        "print(\"number of words that occured minimum 1 time= \",len(w2v_words))\n",
        "print(\"sample words \", w2v_words[0:50])"
      ],
      "metadata": {
        "colab": {
          "base_uri": "https://localhost:8080/"
        },
        "id": "TA2lkDRmmFZP",
        "outputId": "9510c048-b5f0-4874-e090-c178e21e6137"
      },
      "id": "TA2lkDRmmFZP",
      "execution_count": 90,
      "outputs": [
        {
          "output_type": "stream",
          "name": "stdout",
          "text": [
            "number of words that occured minimum 1 time=  8319\n",
            "sample words  ['good', 'food', 'place', 'not', 'taste', 'dose', 'try', 'service', 'great', 'visit', 'one', 'nice', 'also', 'must', 'price', 'get', 'ambience', 'time', 'like', 'well', 'bangalore', 'love', 'tasty', 'serve', 'marsala', 'really', 'order', 'restaurant', 'amazing', 'crowd', 'face', 'quality', 'staff', 'eat', 'awesome', 'chutney', 'idle', 'coffee', 'make', 'indian', 'worth', 'experience', 'dish', 'wait', 'take', 'idly', 'bad', 'delicious', 'item', 'egg']\n"
          ]
        }
      ]
    },
    {
      "cell_type": "markdown",
      "source": [
        "Splitting the data into training and testing"
      ],
      "metadata": {
        "id": "EVw3G_ph2HgG"
      },
      "id": "EVw3G_ph2HgG"
    },
    {
      "cell_type": "code",
      "source": [
        "from sklearn.model_selection import train_test_split\n",
        "x = df1['Processed']\n",
        "y = df1['Sentiment']\n",
        "x_train, x_test,y_train, y_test = train_test_split(x, y,random_state=42,test_size=0.30,shuffle=True)\n",
        "print(len(x_train),\"  \",len(x_test))"
      ],
      "metadata": {
        "colab": {
          "base_uri": "https://localhost:8080/"
        },
        "id": "WpGz4oPKwaq-",
        "outputId": "1d00703c-6d0a-477b-bf5a-11257abbcf81"
      },
      "id": "WpGz4oPKwaq-",
      "execution_count": 91,
      "outputs": [
        {
          "output_type": "stream",
          "name": "stdout",
          "text": [
            "15022    6439\n"
          ]
        }
      ]
    },
    {
      "cell_type": "markdown",
      "source": [
        "TF-IDF Vectorizer"
      ],
      "metadata": {
        "id": "diTSeK942TRI"
      },
      "id": "diTSeK942TRI"
    },
    {
      "cell_type": "code",
      "source": [
        "from sklearn.feature_extraction.text import TfidfVectorizer\n",
        "\n",
        "model = TfidfVectorizer()\n",
        "x_train_tf = model.fit_transform(x)\n",
        "x_train_tf = model.transform(x_train)\n",
        "x_test_tf = model.transform(x_test)\n",
        "# we are converting a dictionary with word as a key, and the idf as a value\n",
        "dictionary = dict(zip(model.get_feature_names_out(), list(model.idf_)))\n"
      ],
      "metadata": {
        "id": "OL1xgZEINvA7"
      },
      "id": "OL1xgZEINvA7",
      "execution_count": 92,
      "outputs": []
    },
    {
      "cell_type": "code",
      "source": [
        "x_train_tf.shape"
      ],
      "metadata": {
        "colab": {
          "base_uri": "https://localhost:8080/"
        },
        "id": "DKqZk821smn6",
        "outputId": "7555f7c9-cc74-4c2d-cf0a-18d5ea320e89"
      },
      "id": "DKqZk821smn6",
      "execution_count": 93,
      "outputs": [
        {
          "output_type": "execute_result",
          "data": {
            "text/plain": [
              "(15022, 8318)"
            ]
          },
          "metadata": {},
          "execution_count": 93
        }
      ]
    },
    {
      "cell_type": "code",
      "source": [
        "x_train_list = []\n",
        "for a in x_train:\n",
        "  x_train_list.append(a.split())\n",
        "\n",
        "x_test_list = []\n",
        "for b in x_test:\n",
        "  x_test_list.append(b.split())"
      ],
      "metadata": {
        "id": "YvHhaE1l9B21"
      },
      "id": "YvHhaE1l9B21",
      "execution_count": 94,
      "outputs": []
    },
    {
      "cell_type": "markdown",
      "source": [
        "TF-IDF Weighted Word2Vec"
      ],
      "metadata": {
        "id": "8__A7TpY2g-E"
      },
      "id": "8__A7TpY2g-E"
    },
    {
      "cell_type": "code",
      "source": [
        "# TF-IDF weighted Word2Vec\n",
        "tfidf_feat = model.get_feature_names_out() # tfidf words/col-names\n",
        "# final_tf_idf is the sparse matrix with row= sentence, col=word and cell_val = tfidf\n",
        "import numpy as np\n",
        "\n",
        "tfidf_sent_vectors_x_train = []; # the tfidf-w2v for each sentence/review is stored in this list\n",
        "row=0;\n",
        "for sent in tqdm(x_train_list): # for each review/sentence \n",
        "    sent_vec = np.zeros(300) # as word vectors are of zero length\n",
        "    weight_sum =0; # num of words with a valid vector in the sentence/review\n",
        "    for word in sent: # for each word in a review/sentence\n",
        "        if word in w2v_words and word in tfidf_feat:\n",
        "            vec = w2v_model.wv[word]\n",
        "            # tf_idf = tf_idf_matrix[row, tfidf_feat.index(word)]\n",
        "            # to reduce the computation we are \n",
        "            # dictionary[word] = idf value of word in whole courpus\n",
        "            # sent.count(word) = tf valeus of word in this review\n",
        "            tf_idf = dictionary[word]*(sent.count(word)/len(sent))\n",
        "            sent_vec += (vec * tf_idf)\n",
        "            weight_sum += tf_idf\n",
        "    if weight_sum != 0:\n",
        "        sent_vec /= weight_sum\n",
        "    tfidf_sent_vectors_x_train.append(sent_vec)\n",
        "    row += 1"
      ],
      "metadata": {
        "colab": {
          "base_uri": "https://localhost:8080/"
        },
        "id": "lknhAKO4V5Kt",
        "outputId": "163b3d55-793f-401f-e1cb-8b04f0c2b64b"
      },
      "id": "lknhAKO4V5Kt",
      "execution_count": 95,
      "outputs": [
        {
          "output_type": "stream",
          "name": "stderr",
          "text": [
            "100%|██████████| 15022/15022 [01:26<00:00, 174.26it/s]\n"
          ]
        }
      ]
    },
    {
      "cell_type": "code",
      "source": [
        "tfidf_sent_vectors_x_test = []; # the tfidf-w2v for each sentence/review is stored in this list\n",
        "\n",
        "for sent in tqdm(x_test_list): # for each review/sentence\n",
        "  \n",
        "  sent_vec = np.zeros(300) # as word vectors are of zero length\n",
        "  weight_sum =0; # num of words with a valid vector in the sentence/review\n",
        "  for word in sent: # for each word in a review/sentence\n",
        "      \n",
        "      if word in w2v_words and word in tfidf_feat:\n",
        "          vec = w2v_model.wv[word]\n",
        "          \n",
        "          # tf_idf = tf_idf_matrix[row, tfidf_feat.index(word)]\n",
        "          # to reduce the computation we are using \n",
        "          # dictionary[word] = idf value of word in whole courpus\n",
        "          # sent.count(word) = tf values of word in this review\n",
        "          tf_idf = dictionary[word]*(sent.count(word)/len(sent))\n",
        "          sent_vec += (vec * tf_idf)\n",
        "          weight_sum += tf_idf\n",
        "  if weight_sum != 0:\n",
        "      sent_vec /= weight_sum\n",
        "  tfidf_sent_vectors_x_test.append(sent_vec)\n",
        "  \n",
        "    "
      ],
      "metadata": {
        "colab": {
          "base_uri": "https://localhost:8080/"
        },
        "id": "LfX79MifyG8_",
        "outputId": "55c99cb6-3414-4c14-9ea9-334d9f39bdd7"
      },
      "id": "LfX79MifyG8_",
      "execution_count": 96,
      "outputs": [
        {
          "output_type": "stream",
          "name": "stderr",
          "text": [
            "100%|██████████| 6439/6439 [00:35<00:00, 181.30it/s]\n"
          ]
        }
      ]
    },
    {
      "cell_type": "markdown",
      "source": [
        "Training tfidf-word2vec Model using Multinomial Naive Bayes"
      ],
      "metadata": {
        "id": "IoCKbJ5h3ep9"
      },
      "id": "IoCKbJ5h3ep9"
    },
    {
      "cell_type": "code",
      "source": [
        "from sklearn.naive_bayes import MultinomialNB\n",
        "from sklearn.preprocessing import MinMaxScaler\n",
        "from sklearn.pipeline import Pipeline\n",
        "from sklearn import metrics\n",
        "MNB = Pipeline([('Normalizing',MinMaxScaler()),('MultinomialNB',MultinomialNB())])\n",
        "MNB.fit(tfidf_sent_vectors_x_train, y_train) \n",
        "\n",
        "# Predicting the Test set results\n",
        "y_pred_w2v = MNB.predict(tfidf_sent_vectors_x_test)\n",
        "print(metrics.classification_report(y_test, y_pred_w2v))"
      ],
      "metadata": {
        "colab": {
          "base_uri": "https://localhost:8080/"
        },
        "id": "kSVuqb66oFSd",
        "outputId": "2cf114f1-4e36-4c6d-e6f7-00a8aaa226f1"
      },
      "id": "kSVuqb66oFSd",
      "execution_count": 97,
      "outputs": [
        {
          "output_type": "stream",
          "name": "stdout",
          "text": [
            "              precision    recall  f1-score   support\n",
            "\n",
            "          -1       0.83      0.02      0.04       798\n",
            "           0       0.00      0.00      0.00       641\n",
            "           1       0.78      1.00      0.88      5000\n",
            "\n",
            "    accuracy                           0.78      6439\n",
            "   macro avg       0.54      0.34      0.30      6439\n",
            "weighted avg       0.71      0.78      0.68      6439\n",
            "\n"
          ]
        },
        {
          "output_type": "stream",
          "name": "stderr",
          "text": [
            "/usr/local/lib/python3.10/dist-packages/sklearn/metrics/_classification.py:1344: UndefinedMetricWarning: Precision and F-score are ill-defined and being set to 0.0 in labels with no predicted samples. Use `zero_division` parameter to control this behavior.\n",
            "  _warn_prf(average, modifier, msg_start, len(result))\n",
            "/usr/local/lib/python3.10/dist-packages/sklearn/metrics/_classification.py:1344: UndefinedMetricWarning: Precision and F-score are ill-defined and being set to 0.0 in labels with no predicted samples. Use `zero_division` parameter to control this behavior.\n",
            "  _warn_prf(average, modifier, msg_start, len(result))\n",
            "/usr/local/lib/python3.10/dist-packages/sklearn/metrics/_classification.py:1344: UndefinedMetricWarning: Precision and F-score are ill-defined and being set to 0.0 in labels with no predicted samples. Use `zero_division` parameter to control this behavior.\n",
            "  _warn_prf(average, modifier, msg_start, len(result))\n"
          ]
        }
      ]
    },
    {
      "cell_type": "markdown",
      "source": [
        "Training tf-idf model using Multinomial Naive Bayes"
      ],
      "metadata": {
        "id": "-M5DrX5a3mNZ"
      },
      "id": "-M5DrX5a3mNZ"
    },
    {
      "cell_type": "code",
      "source": [
        "from sklearn.naive_bayes import MultinomialNB\n",
        "classifier = MultinomialNB()\n",
        "classifier.fit(x_train_tf, y_train)\n",
        "\n",
        "# Predicting the Test set results\n",
        "y_pred_tfidf = classifier.predict(x_test_tf)\n",
        "\n",
        "from sklearn import metrics\n",
        "print(metrics.classification_report(y_test, y_pred_tfidf))\n"
      ],
      "metadata": {
        "colab": {
          "base_uri": "https://localhost:8080/"
        },
        "id": "cU-3xM5Fo4lU",
        "outputId": "e21f96dd-15c9-4bb1-8033-a2f13ad8be0a"
      },
      "id": "cU-3xM5Fo4lU",
      "execution_count": 98,
      "outputs": [
        {
          "output_type": "stream",
          "name": "stdout",
          "text": [
            "              precision    recall  f1-score   support\n",
            "\n",
            "          -1       0.91      0.23      0.36       798\n",
            "           0       0.25      0.00      0.00       641\n",
            "           1       0.80      1.00      0.89      5000\n",
            "\n",
            "    accuracy                           0.80      6439\n",
            "   macro avg       0.65      0.41      0.42      6439\n",
            "weighted avg       0.76      0.80      0.74      6439\n",
            "\n"
          ]
        }
      ]
    },
    {
      "cell_type": "markdown",
      "source": [
        "Training tf-idf word2vec using Random Forest Classifier"
      ],
      "metadata": {
        "id": "L1jBaCw75GKz"
      },
      "id": "L1jBaCw75GKz"
    },
    {
      "cell_type": "code",
      "source": [
        "from sklearn.ensemble import RandomForestClassifier\n",
        "clf = RandomForestClassifier()  \n",
        "clf.fit(tfidf_sent_vectors_x_train, y_train)\n",
        "y_pred_rf = clf.predict(tfidf_sent_vectors_x_test)\n",
        "print(metrics.classification_report(y_test, y_pred_rf))"
      ],
      "metadata": {
        "colab": {
          "base_uri": "https://localhost:8080/"
        },
        "id": "2xGI96XRDG7u",
        "outputId": "a227e8ed-d311-434d-e86b-621cc12e65e4"
      },
      "id": "2xGI96XRDG7u",
      "execution_count": 99,
      "outputs": [
        {
          "output_type": "stream",
          "name": "stdout",
          "text": [
            "              precision    recall  f1-score   support\n",
            "\n",
            "          -1       0.76      0.58      0.66       798\n",
            "           0       0.38      0.05      0.08       641\n",
            "           1       0.86      0.98      0.92      5000\n",
            "\n",
            "    accuracy                           0.84      6439\n",
            "   macro avg       0.66      0.54      0.55      6439\n",
            "weighted avg       0.80      0.84      0.80      6439\n",
            "\n"
          ]
        }
      ]
    },
    {
      "cell_type": "markdown",
      "source": [
        "### Running a Test Case"
      ],
      "metadata": {
        "id": "Yzcx9cQB5N2u"
      },
      "id": "Yzcx9cQB5N2u"
    },
    {
      "cell_type": "code",
      "source": [
        "test_rev = [\"food was not that good....won't advice to visit here\"]\n",
        "\n",
        "test_df = pd.DataFrame(test_rev,columns=['Content'])\n",
        "final_string = []\n",
        "all_positive_words=[]\n",
        "all_negative_words=[]\n",
        "  \n",
        "def cleaner_nlp_test():\n",
        "  i=0\n",
        "  str1=''\n",
        "  s=''\n",
        "  for sent in tqdm(test_df['Content']):\n",
        "    filtered_sentence=[]\n",
        "    print(sent)\n",
        "    sent = remove_urls(sent)\n",
        "    sent = remove_tags(sent)\n",
        "    sent = convert_emojis(sent)\n",
        "    sent = convert_emoticons(sent)\n",
        "    sent = spell_check(sent)\n",
        "    sent = contraction_(sent)\n",
        "    for w in sent.split():\n",
        "        for cleaned_words in cleanpunc(w).split():\n",
        "            if((cleaned_words.isalpha()) and (len(cleaned_words)>2)):\n",
        "                if(cleaned_words.lower() not in final_stopwords):\n",
        "                    \n",
        "                    s=(lemma(cleaned_words.lower()))\n",
        "                    filtered_sentence.append(s)\n",
        "                    if(df1['Stars'].values)[i] == 'Positive':\n",
        "                        all_positive_words.append(s)\n",
        "                    if(df1['Stars'].values)[i] == 'Negative':\n",
        "                        all_negative_words.append(s)\n",
        "                else:\n",
        "                    continue\n",
        "            else:\n",
        "                continue\n",
        "    \n",
        "    str1 = \" \".join(filtered_sentence) #final string of cleaned words\n",
        "\n",
        "    final_string.append(str1)\n",
        "    i+=1"
      ],
      "metadata": {
        "id": "7aIfujx1xpfJ"
      },
      "id": "7aIfujx1xpfJ",
      "execution_count": 109,
      "outputs": []
    },
    {
      "cell_type": "code",
      "source": [
        "cleaner_nlp_test()"
      ],
      "metadata": {
        "colab": {
          "base_uri": "https://localhost:8080/"
        },
        "id": "_66gJEV529Ma",
        "outputId": "0e10b74b-31a7-449f-c9d1-2a199acc032e"
      },
      "id": "_66gJEV529Ma",
      "execution_count": 110,
      "outputs": [
        {
          "output_type": "stream",
          "name": "stderr",
          "text": [
            "100%|██████████| 1/1 [00:00<00:00, 21.06it/s]"
          ]
        },
        {
          "output_type": "stream",
          "name": "stdout",
          "text": [
            "food was not that good....won't advice to visit here\n"
          ]
        },
        {
          "output_type": "stream",
          "name": "stderr",
          "text": [
            "\n"
          ]
        }
      ]
    },
    {
      "cell_type": "code",
      "source": [
        "final_string"
      ],
      "metadata": {
        "colab": {
          "base_uri": "https://localhost:8080/"
        },
        "id": "dci_hhnu2-AH",
        "outputId": "4c9c68bf-b371-4c15-c268-b644e0cc31c8"
      },
      "id": "dci_hhnu2-AH",
      "execution_count": 111,
      "outputs": [
        {
          "output_type": "execute_result",
          "data": {
            "text/plain": [
              "['food not good not advice visit']"
            ]
          },
          "metadata": {},
          "execution_count": 111
        }
      ]
    },
    {
      "cell_type": "code",
      "source": [
        "test_rev_tf = model.transform(final_string)"
      ],
      "metadata": {
        "id": "8nwsat3A3Q8k"
      },
      "id": "8nwsat3A3Q8k",
      "execution_count": 112,
      "outputs": []
    },
    {
      "cell_type": "code",
      "source": [
        "tfidf_sent_vectors_test_rv = []; # the tfidf-w2v for each sentence/review is stored in this list\n",
        "\n",
        "for sent in tqdm(test_df): # for each review/sentence\n",
        "  \n",
        "  sent_vec = np.zeros(300) # as word vectors are of zero length\n",
        "  weight_sum =0; # num of words with a valid vector in the sentence/review\n",
        "  for word in sent: # for each word in a review/sentence\n",
        "      \n",
        "      if word in w2v_words and word in tfidf_feat:\n",
        "          vec = w2v_model.wv[word]\n",
        "          \n",
        "          # tf_idf = tf_idf_matrix[row, tfidf_feat.index(word)]\n",
        "          # to reduce the computation we are \n",
        "          # dictionary[word] = idf value of word in whole courpus\n",
        "          # sent.count(word) = tf values of word in this review\n",
        "          tf_idf = dictionary[word]*(sent.count(word)/len(sent))\n",
        "          sent_vec += (vec * tf_idf)\n",
        "          weight_sum += tf_idf\n",
        "  if weight_sum != 0:\n",
        "      sent_vec /= weight_sum\n",
        "  tfidf_sent_vectors_test_rv.append(sent_vec)\n",
        "  "
      ],
      "metadata": {
        "colab": {
          "base_uri": "https://localhost:8080/"
        },
        "id": "I5pUtLXoElV2",
        "outputId": "d2018136-345d-4c87-bd6d-e5c0bc66c1bc"
      },
      "id": "I5pUtLXoElV2",
      "execution_count": 113,
      "outputs": [
        {
          "output_type": "stream",
          "name": "stderr",
          "text": [
            "100%|██████████| 1/1 [00:00<00:00, 47.05it/s]\n"
          ]
        }
      ]
    },
    {
      "cell_type": "code",
      "source": [
        "res=clf.predict(tfidf_sent_vectors_test_rv)[0]\n",
        "if res==1:\n",
        "    print(\"Good Review\")    \n",
        "elif res==0:\n",
        "    print(\"Neutral Review\")\n",
        "else:\n",
        "  print(\"Bad Review\")"
      ],
      "metadata": {
        "colab": {
          "base_uri": "https://localhost:8080/"
        },
        "id": "pBilOfmM3aJE",
        "outputId": "c3d1ea05-fa8b-4c22-9fbc-f807bd3bd372"
      },
      "id": "pBilOfmM3aJE",
      "execution_count": 114,
      "outputs": [
        {
          "output_type": "stream",
          "name": "stdout",
          "text": [
            "Good Review\n"
          ]
        }
      ]
    },
    {
      "cell_type": "code",
      "source": [
        "res=classifier.predict(test_rev_tf)\n",
        "if res==1:\n",
        "    print(\"Good Review\")    \n",
        "elif res==0:\n",
        "    print(\"Neutral Review\")\n",
        "else:\n",
        "  print(\"Bad Review\")"
      ],
      "metadata": {
        "colab": {
          "base_uri": "https://localhost:8080/"
        },
        "id": "eCuwpMF93hHP",
        "outputId": "f0982f0b-e2b2-47ba-96e3-67f7b875a006"
      },
      "id": "eCuwpMF93hHP",
      "execution_count": 115,
      "outputs": [
        {
          "output_type": "stream",
          "name": "stdout",
          "text": [
            "Good Review\n"
          ]
        }
      ]
    },
    {
      "cell_type": "code",
      "source": [
        "res=MNB.predict(tfidf_sent_vectors_test_rv)\n",
        "if res==1:\n",
        "    print(\"Good Review\")    \n",
        "elif res==0:\n",
        "    print(\"Neutral Review\")\n",
        "else:\n",
        "  print(\"Bad Review\")"
      ],
      "metadata": {
        "colab": {
          "base_uri": "https://localhost:8080/"
        },
        "id": "Yr1EyBfYLylR",
        "outputId": "13b4ec98-e4eb-4426-c347-6140e9b75f69"
      },
      "id": "Yr1EyBfYLylR",
      "execution_count": 116,
      "outputs": [
        {
          "output_type": "stream",
          "name": "stdout",
          "text": [
            "Good Review\n"
          ]
        }
      ]
    },
    {
      "cell_type": "markdown",
      "source": [
        "<b>Intermediate Result:</b> We see that tf-idf vector of words give better result when fitted using naive bayes than the other models and vectorization methods. "
      ],
      "metadata": {
        "id": "bxtU69fXCWYI"
      },
      "id": "bxtU69fXCWYI"
    },
    {
      "cell_type": "markdown",
      "source": [
        "Now we try to use LSTM to fit the vectors of reviews and compare the results."
      ],
      "metadata": {
        "id": "AsTdiQy8DDHv"
      },
      "id": "AsTdiQy8DDHv"
    },
    {
      "cell_type": "markdown",
      "source": [
        "# LSTM"
      ],
      "metadata": {
        "id": "wlI3lzGpMAWx"
      },
      "id": "wlI3lzGpMAWx"
    },
    {
      "cell_type": "markdown",
      "source": [
        "Training a modification of RNN as we know LSTM takes into context the neighbouring words and gives better prediction on tasks like these."
      ],
      "metadata": {
        "id": "UDcEOFW86X4G"
      },
      "id": "UDcEOFW86X4G"
    },
    {
      "cell_type": "code",
      "source": [
        "from keras.preprocessing.text import Tokenizer\n",
        "from keras.utils import pad_sequences"
      ],
      "metadata": {
        "id": "LNXAmBAYO5Ib"
      },
      "id": "LNXAmBAYO5Ib",
      "execution_count": 46,
      "outputs": []
    },
    {
      "cell_type": "code",
      "source": [
        "df1"
      ],
      "metadata": {
        "colab": {
          "base_uri": "https://localhost:8080/",
          "height": 423
        },
        "id": "ruqXBFucMB5o",
        "outputId": "a12a05f2-5107-4aa8-d58d-ea2f35745bbc"
      },
      "id": "ruqXBFucMB5o",
      "execution_count": 47,
      "outputs": [
        {
          "output_type": "execute_result",
          "data": {
            "text/plain": [
              "       Stars                                            Content  Sentiment  \\\n",
              "0          5  Great experience at this Fruitbae. Location is...          1   \n",
              "1          4  Visited late night to have a snack and an ice ...          1   \n",
              "2          5  Yummiest desserts.😍 best place for all the ice...          1   \n",
              "3          3  Dry nut falooda was really good. Fruit pafe wa...          0   \n",
              "4          1  It took more than one and half hour to get you...         -1   \n",
              "...      ...                                                ...        ...   \n",
              "21456      5                                    Taste is great~          1   \n",
              "21457      4                                clean and delicious          1   \n",
              "21458      2                                       Channgi here         -1   \n",
              "21459      5                            After all Japanese food          1   \n",
              "21460      4                           good Japanese restaurant          1   \n",
              "\n",
              "                                               Processed  \n",
              "0      great experience fruit location easily accessi...  \n",
              "1      visit late night snack ice cream locate heart ...  \n",
              "2      dummy dessert smile face heart eye good place ...  \n",
              "3      dry nut flood really good fruit page not expec...  \n",
              "4      take one half hour get order also place order ...  \n",
              "...                                                  ...  \n",
              "21456                                        taste great  \n",
              "21457                                    clean delicious  \n",
              "21458                                             change  \n",
              "21459                                      japanese food  \n",
              "21460                           good japanese restaurant  \n",
              "\n",
              "[21461 rows x 4 columns]"
            ],
            "text/html": [
              "\n",
              "  <div id=\"df-29f8ecc6-2070-43b6-b9b4-9cd86a5fe153\">\n",
              "    <div class=\"colab-df-container\">\n",
              "      <div>\n",
              "<style scoped>\n",
              "    .dataframe tbody tr th:only-of-type {\n",
              "        vertical-align: middle;\n",
              "    }\n",
              "\n",
              "    .dataframe tbody tr th {\n",
              "        vertical-align: top;\n",
              "    }\n",
              "\n",
              "    .dataframe thead th {\n",
              "        text-align: right;\n",
              "    }\n",
              "</style>\n",
              "<table border=\"1\" class=\"dataframe\">\n",
              "  <thead>\n",
              "    <tr style=\"text-align: right;\">\n",
              "      <th></th>\n",
              "      <th>Stars</th>\n",
              "      <th>Content</th>\n",
              "      <th>Sentiment</th>\n",
              "      <th>Processed</th>\n",
              "    </tr>\n",
              "  </thead>\n",
              "  <tbody>\n",
              "    <tr>\n",
              "      <th>0</th>\n",
              "      <td>5</td>\n",
              "      <td>Great experience at this Fruitbae. Location is...</td>\n",
              "      <td>1</td>\n",
              "      <td>great experience fruit location easily accessi...</td>\n",
              "    </tr>\n",
              "    <tr>\n",
              "      <th>1</th>\n",
              "      <td>4</td>\n",
              "      <td>Visited late night to have a snack and an ice ...</td>\n",
              "      <td>1</td>\n",
              "      <td>visit late night snack ice cream locate heart ...</td>\n",
              "    </tr>\n",
              "    <tr>\n",
              "      <th>2</th>\n",
              "      <td>5</td>\n",
              "      <td>Yummiest desserts.😍 best place for all the ice...</td>\n",
              "      <td>1</td>\n",
              "      <td>dummy dessert smile face heart eye good place ...</td>\n",
              "    </tr>\n",
              "    <tr>\n",
              "      <th>3</th>\n",
              "      <td>3</td>\n",
              "      <td>Dry nut falooda was really good. Fruit pafe wa...</td>\n",
              "      <td>0</td>\n",
              "      <td>dry nut flood really good fruit page not expec...</td>\n",
              "    </tr>\n",
              "    <tr>\n",
              "      <th>4</th>\n",
              "      <td>1</td>\n",
              "      <td>It took more than one and half hour to get you...</td>\n",
              "      <td>-1</td>\n",
              "      <td>take one half hour get order also place order ...</td>\n",
              "    </tr>\n",
              "    <tr>\n",
              "      <th>...</th>\n",
              "      <td>...</td>\n",
              "      <td>...</td>\n",
              "      <td>...</td>\n",
              "      <td>...</td>\n",
              "    </tr>\n",
              "    <tr>\n",
              "      <th>21456</th>\n",
              "      <td>5</td>\n",
              "      <td>Taste is great~</td>\n",
              "      <td>1</td>\n",
              "      <td>taste great</td>\n",
              "    </tr>\n",
              "    <tr>\n",
              "      <th>21457</th>\n",
              "      <td>4</td>\n",
              "      <td>clean and delicious</td>\n",
              "      <td>1</td>\n",
              "      <td>clean delicious</td>\n",
              "    </tr>\n",
              "    <tr>\n",
              "      <th>21458</th>\n",
              "      <td>2</td>\n",
              "      <td>Channgi here</td>\n",
              "      <td>-1</td>\n",
              "      <td>change</td>\n",
              "    </tr>\n",
              "    <tr>\n",
              "      <th>21459</th>\n",
              "      <td>5</td>\n",
              "      <td>After all Japanese food</td>\n",
              "      <td>1</td>\n",
              "      <td>japanese food</td>\n",
              "    </tr>\n",
              "    <tr>\n",
              "      <th>21460</th>\n",
              "      <td>4</td>\n",
              "      <td>good Japanese restaurant</td>\n",
              "      <td>1</td>\n",
              "      <td>good japanese restaurant</td>\n",
              "    </tr>\n",
              "  </tbody>\n",
              "</table>\n",
              "<p>21461 rows × 4 columns</p>\n",
              "</div>\n",
              "      <button class=\"colab-df-convert\" onclick=\"convertToInteractive('df-29f8ecc6-2070-43b6-b9b4-9cd86a5fe153')\"\n",
              "              title=\"Convert this dataframe to an interactive table.\"\n",
              "              style=\"display:none;\">\n",
              "        \n",
              "  <svg xmlns=\"http://www.w3.org/2000/svg\" height=\"24px\"viewBox=\"0 0 24 24\"\n",
              "       width=\"24px\">\n",
              "    <path d=\"M0 0h24v24H0V0z\" fill=\"none\"/>\n",
              "    <path d=\"M18.56 5.44l.94 2.06.94-2.06 2.06-.94-2.06-.94-.94-2.06-.94 2.06-2.06.94zm-11 1L8.5 8.5l.94-2.06 2.06-.94-2.06-.94L8.5 2.5l-.94 2.06-2.06.94zm10 10l.94 2.06.94-2.06 2.06-.94-2.06-.94-.94-2.06-.94 2.06-2.06.94z\"/><path d=\"M17.41 7.96l-1.37-1.37c-.4-.4-.92-.59-1.43-.59-.52 0-1.04.2-1.43.59L10.3 9.45l-7.72 7.72c-.78.78-.78 2.05 0 2.83L4 21.41c.39.39.9.59 1.41.59.51 0 1.02-.2 1.41-.59l7.78-7.78 2.81-2.81c.8-.78.8-2.07 0-2.86zM5.41 20L4 18.59l7.72-7.72 1.47 1.35L5.41 20z\"/>\n",
              "  </svg>\n",
              "      </button>\n",
              "      \n",
              "  <style>\n",
              "    .colab-df-container {\n",
              "      display:flex;\n",
              "      flex-wrap:wrap;\n",
              "      gap: 12px;\n",
              "    }\n",
              "\n",
              "    .colab-df-convert {\n",
              "      background-color: #E8F0FE;\n",
              "      border: none;\n",
              "      border-radius: 50%;\n",
              "      cursor: pointer;\n",
              "      display: none;\n",
              "      fill: #1967D2;\n",
              "      height: 32px;\n",
              "      padding: 0 0 0 0;\n",
              "      width: 32px;\n",
              "    }\n",
              "\n",
              "    .colab-df-convert:hover {\n",
              "      background-color: #E2EBFA;\n",
              "      box-shadow: 0px 1px 2px rgba(60, 64, 67, 0.3), 0px 1px 3px 1px rgba(60, 64, 67, 0.15);\n",
              "      fill: #174EA6;\n",
              "    }\n",
              "\n",
              "    [theme=dark] .colab-df-convert {\n",
              "      background-color: #3B4455;\n",
              "      fill: #D2E3FC;\n",
              "    }\n",
              "\n",
              "    [theme=dark] .colab-df-convert:hover {\n",
              "      background-color: #434B5C;\n",
              "      box-shadow: 0px 1px 3px 1px rgba(0, 0, 0, 0.15);\n",
              "      filter: drop-shadow(0px 1px 2px rgba(0, 0, 0, 0.3));\n",
              "      fill: #FFFFFF;\n",
              "    }\n",
              "  </style>\n",
              "\n",
              "      <script>\n",
              "        const buttonEl =\n",
              "          document.querySelector('#df-29f8ecc6-2070-43b6-b9b4-9cd86a5fe153 button.colab-df-convert');\n",
              "        buttonEl.style.display =\n",
              "          google.colab.kernel.accessAllowed ? 'block' : 'none';\n",
              "\n",
              "        async function convertToInteractive(key) {\n",
              "          const element = document.querySelector('#df-29f8ecc6-2070-43b6-b9b4-9cd86a5fe153');\n",
              "          const dataTable =\n",
              "            await google.colab.kernel.invokeFunction('convertToInteractive',\n",
              "                                                     [key], {});\n",
              "          if (!dataTable) return;\n",
              "\n",
              "          const docLinkHtml = 'Like what you see? Visit the ' +\n",
              "            '<a target=\"_blank\" href=https://colab.research.google.com/notebooks/data_table.ipynb>data table notebook</a>'\n",
              "            + ' to learn more about interactive tables.';\n",
              "          element.innerHTML = '';\n",
              "          dataTable['output_type'] = 'display_data';\n",
              "          await google.colab.output.renderOutput(dataTable, element);\n",
              "          const docLink = document.createElement('div');\n",
              "          docLink.innerHTML = docLinkHtml;\n",
              "          element.appendChild(docLink);\n",
              "        }\n",
              "      </script>\n",
              "    </div>\n",
              "  </div>\n",
              "  "
            ]
          },
          "metadata": {},
          "execution_count": 47
        }
      ]
    },
    {
      "cell_type": "code",
      "source": [
        "s = 0.0\n",
        "for i in df1['Processed']:\n",
        "    word_list = i.split()\n",
        "    s = s + len(word_list)\n",
        "print(\"Average length of each review : \",s/df1.shape[0])"
      ],
      "metadata": {
        "colab": {
          "base_uri": "https://localhost:8080/"
        },
        "id": "ThznSejdMx6M",
        "outputId": "26588aed-1b6f-40b9-ea54-0bf90b16235e"
      },
      "id": "ThznSejdMx6M",
      "execution_count": 48,
      "outputs": [
        {
          "output_type": "stream",
          "name": "stdout",
          "text": [
            "Average length of each review :  16.112063743534783\n"
          ]
        }
      ]
    },
    {
      "cell_type": "code",
      "source": [
        "from sklearn.model_selection import train_test_split\n",
        "train_sentences, test_sentences, train_labels, test_labels = train_test_split(df1['Processed'], df1['Sentiment'], test_size=0.20, random_state=42)"
      ],
      "metadata": {
        "id": "EQC5WwmJOUkC"
      },
      "id": "EQC5WwmJOUkC",
      "execution_count": 131,
      "outputs": []
    },
    {
      "cell_type": "markdown",
      "source": [
        "Tokenizing train and test reviews and converting them to array of digits along with padding."
      ],
      "metadata": {
        "id": "dytOIDzacsuD"
      },
      "id": "dytOIDzacsuD"
    },
    {
      "cell_type": "code",
      "source": [
        "# Hyperparameters of the model\n",
        "\n",
        "embedding_dim = 100\n",
        "max_length = 50  # max review length to cap the reviews to same length\n",
        "padding_type='post' # to pad the review with zeros after the words of the review\n",
        "\n",
        "# tokenize sentences\n",
        "tokenizer = Tokenizer()\n",
        "tokenizer.fit_on_texts(df1['Processed'])\n",
        "word_index = tokenizer.word_index\n",
        "vocab_size = len(word_index)+1\n",
        "# convert train dataset to sequence and pad sequences\n",
        "train_sequences = tokenizer.texts_to_sequences(train_sentences)\n",
        "train_padded = pad_sequences(train_sequences, padding='post', maxlen=max_length)\n",
        "# convert Test dataset to sequence and pad sequences\n",
        "test_sequences = tokenizer.texts_to_sequences(test_sentences)\n",
        "test_padded = pad_sequences(test_sequences, padding='post', maxlen=max_length)"
      ],
      "metadata": {
        "id": "QPLLT-EQOm2-"
      },
      "id": "QPLLT-EQOm2-",
      "execution_count": 132,
      "outputs": []
    },
    {
      "cell_type": "code",
      "source": [
        "len(word_index) # no of unique words in whole corpus"
      ],
      "metadata": {
        "colab": {
          "base_uri": "https://localhost:8080/"
        },
        "id": "NBy_mDibcG58",
        "outputId": "3505b195-04e3-4fcd-ead4-f62e5ea08238"
      },
      "id": "NBy_mDibcG58",
      "execution_count": 133,
      "outputs": [
        {
          "output_type": "execute_result",
          "data": {
            "text/plain": [
              "8319"
            ]
          },
          "metadata": {},
          "execution_count": 133
        }
      ]
    },
    {
      "cell_type": "code",
      "source": [
        "import keras\n",
        "from keras.models import Sequential\n",
        "from keras.layers import Input, CuDNNLSTM, Dense\n",
        "from keras.layers import Embedding\n",
        "from keras.layers import Bidirectional\n",
        "\n",
        "model = Sequential()\n",
        "model.add(Embedding(vocab_size, embedding_dim, input_length=max_length))\n",
        "# Since passing output to next LSTM layer set return_sequence to True.\n",
        "model.add(Bidirectional(CuDNNLSTM(64, return_sequences=True)))\n",
        "model.add(Bidirectional(CuDNNLSTM(64)))\n",
        "model.add(Dense(32,activation='relu'))\n",
        "model.add(Dense(1,activation='sigmoid'))\n",
        "# compile model\n",
        "model.compile(loss='binary_crossentropy', optimizer='adam', metrics=['accuracy'])\n",
        "# model summary\n",
        "model.summary()\n"
      ],
      "metadata": {
        "colab": {
          "base_uri": "https://localhost:8080/"
        },
        "id": "YJ_TuhVGRzmh",
        "outputId": "10b8cb67-cc03-4de5-d95d-22208c047123"
      },
      "id": "YJ_TuhVGRzmh",
      "execution_count": 134,
      "outputs": [
        {
          "output_type": "stream",
          "name": "stdout",
          "text": [
            "Model: \"sequential_7\"\n",
            "_________________________________________________________________\n",
            " Layer (type)                Output Shape              Param #   \n",
            "=================================================================\n",
            " embedding_6 (Embedding)     (None, 50, 100)           832000    \n",
            "                                                                 \n",
            " bidirectional_12 (Bidirecti  (None, 50, 128)          84992     \n",
            " onal)                                                           \n",
            "                                                                 \n",
            " bidirectional_13 (Bidirecti  (None, 128)              99328     \n",
            " onal)                                                           \n",
            "                                                                 \n",
            " dense_12 (Dense)            (None, 32)                4128      \n",
            "                                                                 \n",
            " dense_13 (Dense)            (None, 1)                 33        \n",
            "                                                                 \n",
            "=================================================================\n",
            "Total params: 1,020,481\n",
            "Trainable params: 1,020,481\n",
            "Non-trainable params: 0\n",
            "_________________________________________________________________\n"
          ]
        }
      ]
    },
    {
      "cell_type": "code",
      "source": [
        "num_epochs = 7\n",
        "history = model.fit(train_padded, train_labels, \n",
        "                    epochs=num_epochs, verbose=1, \n",
        "                    validation_split=0.1)"
      ],
      "metadata": {
        "colab": {
          "base_uri": "https://localhost:8080/"
        },
        "id": "JenG6eLMSUa5",
        "outputId": "ae2c1af5-43c9-486c-daa0-c252253e267b"
      },
      "id": "JenG6eLMSUa5",
      "execution_count": 136,
      "outputs": [
        {
          "output_type": "stream",
          "name": "stdout",
          "text": [
            "Epoch 1/7\n",
            "483/483 [==============================] - 12s 24ms/step - loss: -6084.8481 - accuracy: 0.8049 - val_loss: -4662.9604 - val_accuracy: 0.7740\n",
            "Epoch 2/7\n",
            "483/483 [==============================] - 8s 17ms/step - loss: -7177.5664 - accuracy: 0.8001 - val_loss: -6079.4634 - val_accuracy: 0.7897\n",
            "Epoch 3/7\n",
            "483/483 [==============================] - 8s 16ms/step - loss: -9129.7100 - accuracy: 0.8028 - val_loss: -7233.2417 - val_accuracy: 0.7746\n",
            "Epoch 4/7\n",
            "483/483 [==============================] - 9s 18ms/step - loss: -10770.7715 - accuracy: 0.8049 - val_loss: -8644.8535 - val_accuracy: 0.7822\n",
            "Epoch 5/7\n",
            "483/483 [==============================] - 9s 19ms/step - loss: -12131.2764 - accuracy: 0.8010 - val_loss: -9195.4775 - val_accuracy: 0.7566\n",
            "Epoch 6/7\n",
            "483/483 [==============================] - 7s 15ms/step - loss: -14417.1211 - accuracy: 0.8023 - val_loss: -11356.8418 - val_accuracy: 0.7781\n",
            "Epoch 7/7\n",
            "483/483 [==============================] - 9s 18ms/step - loss: -16589.6523 - accuracy: 0.8049 - val_loss: -12428.0957 - val_accuracy: 0.7764\n"
          ]
        }
      ]
    },
    {
      "cell_type": "code",
      "source": [
        "prediction = model.predict(test_padded)\n",
        "# Get labels based on probability 1 if p>= 0.5 else 0\n",
        "pred_labels = []\n",
        "for i in prediction:\n",
        "    if i >= 0.5:\n",
        "        pred_labels.append(1)\n",
        "    else:\n",
        "        pred_labels.append(0)\n",
        "print(\"Accuracy of prediction on test set : \", metrics.accuracy_score(test_labels,pred_labels))"
      ],
      "metadata": {
        "colab": {
          "base_uri": "https://localhost:8080/"
        },
        "id": "KOZrpTelSew3",
        "outputId": "24842a3d-9549-4c38-e027-97472c3369df"
      },
      "id": "KOZrpTelSew3",
      "execution_count": 137,
      "outputs": [
        {
          "output_type": "stream",
          "name": "stdout",
          "text": [
            "135/135 [==============================] - 1s 6ms/step\n",
            "Accuracy of prediction on test set :  0.7745166550197997\n"
          ]
        }
      ]
    },
    {
      "cell_type": "code",
      "source": [
        "test_seq_rv = [\"idli was very amazing quality...will visit again\"]\n",
        "test_seq_df = pd.DataFrame(test_seq_rv,columns=['Content'])\n",
        "final_string = []\n",
        "all_positive_words=[]\n",
        "all_negative_words=[]\n",
        "  \n",
        "def cleaner_nlp_test():\n",
        "  i=0\n",
        "  str1=''\n",
        "  s=''\n",
        "  for sent in tqdm(test_seq_df['Content']):\n",
        "    filtered_sentence=[]\n",
        "    print(sent)\n",
        "    sent = remove_urls(sent)\n",
        "    sent = remove_tags(sent)\n",
        "    sent = convert_emojis(sent)\n",
        "    sent = convert_emoticons(sent)\n",
        "    sent = spell_check(sent)\n",
        "    sent = contraction_(sent)\n",
        "    for w in sent.split():\n",
        "        for cleaned_words in cleanpunc(w).split():\n",
        "            if((cleaned_words.isalpha()) and (len(cleaned_words)>2)):\n",
        "                if(cleaned_words.lower() not in final_stopwords):\n",
        "                    \n",
        "                    s=(lemma(cleaned_words.lower()))\n",
        "                    filtered_sentence.append(s)\n",
        "                    if(df1['Stars'].values)[i] == 'Positive':\n",
        "                        all_positive_words.append(s)\n",
        "                    if(df1['Stars'].values)[i] == 'Negative':\n",
        "                        all_negative_words.append(s)\n",
        "                else:\n",
        "                    continue\n",
        "            else:\n",
        "                continue\n",
        "    \n",
        "    str1 = \" \".join(filtered_sentence) #final string of cleaned words\n",
        "\n",
        "    final_string.append(str1)\n",
        "    i+=1\n",
        "cleaner_nlp_test()  \n",
        "\n",
        "test_sequences = tokenizer.texts_to_sequences(final_string)\n",
        "test_padded = pad_sequences(test_sequences, padding='post', maxlen=max_length)"
      ],
      "metadata": {
        "id": "___dpym_fs3t",
        "colab": {
          "base_uri": "https://localhost:8080/"
        },
        "outputId": "cb010528-f4a0-4567-cd6c-3925be042c55"
      },
      "id": "___dpym_fs3t",
      "execution_count": 141,
      "outputs": [
        {
          "output_type": "stream",
          "name": "stderr",
          "text": [
            "100%|██████████| 1/1 [00:00<00:00, 27.51it/s]"
          ]
        },
        {
          "output_type": "stream",
          "name": "stdout",
          "text": [
            "idli was very amazing quality...will visit again\n"
          ]
        },
        {
          "output_type": "stream",
          "name": "stderr",
          "text": [
            "\n"
          ]
        }
      ]
    },
    {
      "cell_type": "code",
      "source": [
        "prediction = model.predict(test_padded)\n",
        "# Get labels based on probability 1 if p>= 0.5 else 0\n",
        "pred_labels = []\n",
        "for i in prediction:\n",
        "  print(i)\n",
        "  if i >= 0.5:\n",
        "    pred_labels.append(1)\n",
        "  else:\n",
        "    pred_labels.append(0)\n",
        "print(\"Review is: \",pred_labels)"
      ],
      "metadata": {
        "colab": {
          "base_uri": "https://localhost:8080/"
        },
        "id": "6-jdqRFziQR7",
        "outputId": "af26ae62-80bd-47de-ad2c-189162b21475"
      },
      "id": "6-jdqRFziQR7",
      "execution_count": 143,
      "outputs": [
        {
          "output_type": "stream",
          "name": "stdout",
          "text": [
            "1/1 [==============================] - 0s 54ms/step\n",
            "[0.67387116]\n",
            "Review is:  [1]\n"
          ]
        }
      ]
    },
    {
      "cell_type": "markdown",
      "source": [
        "We can see that LSTM is giving better accuracy on the full dataframe than traditional ML Algorithms but still there is a lot of scope of improvement. More data can be collected and balance can be created between all the type of reviews and then LSTM can be fitted since neural networks work better on bigger data size."
      ],
      "metadata": {
        "id": "0OYUhzzb3XHw"
      },
      "id": "0OYUhzzb3XHw"
    }
  ],
  "metadata": {
    "kernelspec": {
      "display_name": "Python 3",
      "name": "python3"
    },
    "language_info": {
      "codemirror_mode": {
        "name": "ipython",
        "version": 3
      },
      "file_extension": ".py",
      "mimetype": "text/x-python",
      "name": "python",
      "nbconvert_exporter": "python",
      "pygments_lexer": "ipython3",
      "version": "3.9.12"
    },
    "colab": {
      "provenance": [],
      "gpuType": "T4"
    },
    "accelerator": "GPU"
  },
  "nbformat": 4,
  "nbformat_minor": 5
}